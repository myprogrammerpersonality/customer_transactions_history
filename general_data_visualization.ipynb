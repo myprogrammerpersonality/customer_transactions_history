{
 "cells": [
  {
   "cell_type": "code",
   "execution_count": 211,
   "metadata": {},
   "outputs": [
    {
     "data": {
      "text/html": [
       "\n",
       "    <div class=\"bk-root\">\n",
       "        <a href=\"https://bokeh.org\" target=\"_blank\" class=\"bk-logo bk-logo-small bk-logo-notebook\"></a>\n",
       "        <span id=\"40338\">Loading BokehJS ...</span>\n",
       "    </div>"
      ]
     },
     "metadata": {},
     "output_type": "display_data"
    },
    {
     "data": {
      "application/javascript": [
       "\n",
       "(function(root) {\n",
       "  function now() {\n",
       "    return new Date();\n",
       "  }\n",
       "\n",
       "  var force = true;\n",
       "\n",
       "  if (typeof root._bokeh_onload_callbacks === \"undefined\" || force === true) {\n",
       "    root._bokeh_onload_callbacks = [];\n",
       "    root._bokeh_is_loading = undefined;\n",
       "  }\n",
       "\n",
       "  var JS_MIME_TYPE = 'application/javascript';\n",
       "  var HTML_MIME_TYPE = 'text/html';\n",
       "  var EXEC_MIME_TYPE = 'application/vnd.bokehjs_exec.v0+json';\n",
       "  var CLASS_NAME = 'output_bokeh rendered_html';\n",
       "\n",
       "  /**\n",
       "   * Render data to the DOM node\n",
       "   */\n",
       "  function render(props, node) {\n",
       "    var script = document.createElement(\"script\");\n",
       "    node.appendChild(script);\n",
       "  }\n",
       "\n",
       "  /**\n",
       "   * Handle when an output is cleared or removed\n",
       "   */\n",
       "  function handleClearOutput(event, handle) {\n",
       "    var cell = handle.cell;\n",
       "\n",
       "    var id = cell.output_area._bokeh_element_id;\n",
       "    var server_id = cell.output_area._bokeh_server_id;\n",
       "    // Clean up Bokeh references\n",
       "    if (id != null && id in Bokeh.index) {\n",
       "      Bokeh.index[id].model.document.clear();\n",
       "      delete Bokeh.index[id];\n",
       "    }\n",
       "\n",
       "    if (server_id !== undefined) {\n",
       "      // Clean up Bokeh references\n",
       "      var cmd = \"from bokeh.io.state import curstate; print(curstate().uuid_to_server['\" + server_id + \"'].get_sessions()[0].document.roots[0]._id)\";\n",
       "      cell.notebook.kernel.execute(cmd, {\n",
       "        iopub: {\n",
       "          output: function(msg) {\n",
       "            var id = msg.content.text.trim();\n",
       "            if (id in Bokeh.index) {\n",
       "              Bokeh.index[id].model.document.clear();\n",
       "              delete Bokeh.index[id];\n",
       "            }\n",
       "          }\n",
       "        }\n",
       "      });\n",
       "      // Destroy server and session\n",
       "      var cmd = \"import bokeh.io.notebook as ion; ion.destroy_server('\" + server_id + \"')\";\n",
       "      cell.notebook.kernel.execute(cmd);\n",
       "    }\n",
       "  }\n",
       "\n",
       "  /**\n",
       "   * Handle when a new output is added\n",
       "   */\n",
       "  function handleAddOutput(event, handle) {\n",
       "    var output_area = handle.output_area;\n",
       "    var output = handle.output;\n",
       "\n",
       "    // limit handleAddOutput to display_data with EXEC_MIME_TYPE content only\n",
       "    if ((output.output_type != \"display_data\") || (!output.data.hasOwnProperty(EXEC_MIME_TYPE))) {\n",
       "      return\n",
       "    }\n",
       "\n",
       "    var toinsert = output_area.element.find(\".\" + CLASS_NAME.split(' ')[0]);\n",
       "\n",
       "    if (output.metadata[EXEC_MIME_TYPE][\"id\"] !== undefined) {\n",
       "      toinsert[toinsert.length - 1].firstChild.textContent = output.data[JS_MIME_TYPE];\n",
       "      // store reference to embed id on output_area\n",
       "      output_area._bokeh_element_id = output.metadata[EXEC_MIME_TYPE][\"id\"];\n",
       "    }\n",
       "    if (output.metadata[EXEC_MIME_TYPE][\"server_id\"] !== undefined) {\n",
       "      var bk_div = document.createElement(\"div\");\n",
       "      bk_div.innerHTML = output.data[HTML_MIME_TYPE];\n",
       "      var script_attrs = bk_div.children[0].attributes;\n",
       "      for (var i = 0; i < script_attrs.length; i++) {\n",
       "        toinsert[toinsert.length - 1].firstChild.setAttribute(script_attrs[i].name, script_attrs[i].value);\n",
       "        toinsert[toinsert.length - 1].firstChild.textContent = bk_div.children[0].textContent\n",
       "      }\n",
       "      // store reference to server id on output_area\n",
       "      output_area._bokeh_server_id = output.metadata[EXEC_MIME_TYPE][\"server_id\"];\n",
       "    }\n",
       "  }\n",
       "\n",
       "  function register_renderer(events, OutputArea) {\n",
       "\n",
       "    function append_mime(data, metadata, element) {\n",
       "      // create a DOM node to render to\n",
       "      var toinsert = this.create_output_subarea(\n",
       "        metadata,\n",
       "        CLASS_NAME,\n",
       "        EXEC_MIME_TYPE\n",
       "      );\n",
       "      this.keyboard_manager.register_events(toinsert);\n",
       "      // Render to node\n",
       "      var props = {data: data, metadata: metadata[EXEC_MIME_TYPE]};\n",
       "      render(props, toinsert[toinsert.length - 1]);\n",
       "      element.append(toinsert);\n",
       "      return toinsert\n",
       "    }\n",
       "\n",
       "    /* Handle when an output is cleared or removed */\n",
       "    events.on('clear_output.CodeCell', handleClearOutput);\n",
       "    events.on('delete.Cell', handleClearOutput);\n",
       "\n",
       "    /* Handle when a new output is added */\n",
       "    events.on('output_added.OutputArea', handleAddOutput);\n",
       "\n",
       "    /**\n",
       "     * Register the mime type and append_mime function with output_area\n",
       "     */\n",
       "    OutputArea.prototype.register_mime_type(EXEC_MIME_TYPE, append_mime, {\n",
       "      /* Is output safe? */\n",
       "      safe: true,\n",
       "      /* Index of renderer in `output_area.display_order` */\n",
       "      index: 0\n",
       "    });\n",
       "  }\n",
       "\n",
       "  // register the mime type if in Jupyter Notebook environment and previously unregistered\n",
       "  if (root.Jupyter !== undefined) {\n",
       "    var events = require('base/js/events');\n",
       "    var OutputArea = require('notebook/js/outputarea').OutputArea;\n",
       "\n",
       "    if (OutputArea.prototype.mime_types().indexOf(EXEC_MIME_TYPE) == -1) {\n",
       "      register_renderer(events, OutputArea);\n",
       "    }\n",
       "  }\n",
       "\n",
       "  \n",
       "  if (typeof (root._bokeh_timeout) === \"undefined\" || force === true) {\n",
       "    root._bokeh_timeout = Date.now() + 5000;\n",
       "    root._bokeh_failed_load = false;\n",
       "  }\n",
       "\n",
       "  var NB_LOAD_WARNING = {'data': {'text/html':\n",
       "     \"<div style='background-color: #fdd'>\\n\"+\n",
       "     \"<p>\\n\"+\n",
       "     \"BokehJS does not appear to have successfully loaded. If loading BokehJS from CDN, this \\n\"+\n",
       "     \"may be due to a slow or bad network connection. Possible fixes:\\n\"+\n",
       "     \"</p>\\n\"+\n",
       "     \"<ul>\\n\"+\n",
       "     \"<li>re-rerun `output_notebook()` to attempt to load from CDN again, or</li>\\n\"+\n",
       "     \"<li>use INLINE resources instead, as so:</li>\\n\"+\n",
       "     \"</ul>\\n\"+\n",
       "     \"<code>\\n\"+\n",
       "     \"from bokeh.resources import INLINE\\n\"+\n",
       "     \"output_notebook(resources=INLINE)\\n\"+\n",
       "     \"</code>\\n\"+\n",
       "     \"</div>\"}};\n",
       "\n",
       "  function display_loaded() {\n",
       "    var el = document.getElementById(\"40338\");\n",
       "    if (el != null) {\n",
       "      el.textContent = \"BokehJS is loading...\";\n",
       "    }\n",
       "    if (root.Bokeh !== undefined) {\n",
       "      if (el != null) {\n",
       "        el.textContent = \"BokehJS \" + root.Bokeh.version + \" successfully loaded.\";\n",
       "      }\n",
       "    } else if (Date.now() < root._bokeh_timeout) {\n",
       "      setTimeout(display_loaded, 100)\n",
       "    }\n",
       "  }\n",
       "\n",
       "\n",
       "  function run_callbacks() {\n",
       "    try {\n",
       "      root._bokeh_onload_callbacks.forEach(function(callback) {\n",
       "        if (callback != null)\n",
       "          callback();\n",
       "      });\n",
       "    } finally {\n",
       "      delete root._bokeh_onload_callbacks\n",
       "    }\n",
       "    console.debug(\"Bokeh: all callbacks have finished\");\n",
       "  }\n",
       "\n",
       "  function load_libs(css_urls, js_urls, callback) {\n",
       "    if (css_urls == null) css_urls = [];\n",
       "    if (js_urls == null) js_urls = [];\n",
       "\n",
       "    root._bokeh_onload_callbacks.push(callback);\n",
       "    if (root._bokeh_is_loading > 0) {\n",
       "      console.debug(\"Bokeh: BokehJS is being loaded, scheduling callback at\", now());\n",
       "      return null;\n",
       "    }\n",
       "    if (js_urls == null || js_urls.length === 0) {\n",
       "      run_callbacks();\n",
       "      return null;\n",
       "    }\n",
       "    console.debug(\"Bokeh: BokehJS not loaded, scheduling load and callback at\", now());\n",
       "    root._bokeh_is_loading = css_urls.length + js_urls.length;\n",
       "\n",
       "    function on_load() {\n",
       "      root._bokeh_is_loading--;\n",
       "      if (root._bokeh_is_loading === 0) {\n",
       "        console.debug(\"Bokeh: all BokehJS libraries/stylesheets loaded\");\n",
       "        run_callbacks()\n",
       "      }\n",
       "    }\n",
       "\n",
       "    function on_error() {\n",
       "      console.error(\"failed to load \" + url);\n",
       "    }\n",
       "\n",
       "    for (var i = 0; i < css_urls.length; i++) {\n",
       "      var url = css_urls[i];\n",
       "      const element = document.createElement(\"link\");\n",
       "      element.onload = on_load;\n",
       "      element.onerror = on_error;\n",
       "      element.rel = \"stylesheet\";\n",
       "      element.type = \"text/css\";\n",
       "      element.href = url;\n",
       "      console.debug(\"Bokeh: injecting link tag for BokehJS stylesheet: \", url);\n",
       "      document.body.appendChild(element);\n",
       "    }\n",
       "\n",
       "    const hashes = {\"https://cdn.bokeh.org/bokeh/release/bokeh-2.0.2.min.js\": \"ufR9RFnRs6lniiaFvtJziE0YeidtAgBRH6ux2oUItHw5WTvE1zuk9uzhUU/FJXDp\", \"https://cdn.bokeh.org/bokeh/release/bokeh-widgets-2.0.2.min.js\": \"8QM/PGWBT+IssZuRcDcjzwIh1mkOmJSoNMmyYDZbCfXJg3Ap1lEvdVgFuSAwhb/J\", \"https://cdn.bokeh.org/bokeh/release/bokeh-tables-2.0.2.min.js\": \"Jm8cH3Rg0P6UeZhVY5cLy1WzKajUT9KImCY+76hEqrcJt59/d8GPvFHjCkYgnSIn\", \"https://cdn.bokeh.org/bokeh/release/bokeh-gl-2.0.2.min.js\": \"Ozhzj+SI7ywm74aOI/UajcWz+C0NjsPunEVyVIrxzYkB+jA+2tUw8x5xJCbVtK5I\"};\n",
       "\n",
       "    for (var i = 0; i < js_urls.length; i++) {\n",
       "      var url = js_urls[i];\n",
       "      var element = document.createElement('script');\n",
       "      element.onload = on_load;\n",
       "      element.onerror = on_error;\n",
       "      element.async = false;\n",
       "      element.src = url;\n",
       "      if (url in hashes) {\n",
       "        element.crossOrigin = \"anonymous\";\n",
       "        element.integrity = \"sha384-\" + hashes[url];\n",
       "      }\n",
       "      console.debug(\"Bokeh: injecting script tag for BokehJS library: \", url);\n",
       "      document.head.appendChild(element);\n",
       "    }\n",
       "  };\n",
       "\n",
       "  function inject_raw_css(css) {\n",
       "    const element = document.createElement(\"style\");\n",
       "    element.appendChild(document.createTextNode(css));\n",
       "    document.body.appendChild(element);\n",
       "  }\n",
       "\n",
       "  \n",
       "  var js_urls = [\"https://cdn.bokeh.org/bokeh/release/bokeh-2.0.2.min.js\", \"https://cdn.bokeh.org/bokeh/release/bokeh-widgets-2.0.2.min.js\", \"https://cdn.bokeh.org/bokeh/release/bokeh-tables-2.0.2.min.js\", \"https://cdn.bokeh.org/bokeh/release/bokeh-gl-2.0.2.min.js\"];\n",
       "  var css_urls = [];\n",
       "  \n",
       "\n",
       "  var inline_js = [\n",
       "    function(Bokeh) {\n",
       "      Bokeh.set_log_level(\"info\");\n",
       "    },\n",
       "    function(Bokeh) {\n",
       "    \n",
       "    \n",
       "    }\n",
       "  ];\n",
       "\n",
       "  function run_inline_js() {\n",
       "    \n",
       "    if (root.Bokeh !== undefined || force === true) {\n",
       "      \n",
       "    for (var i = 0; i < inline_js.length; i++) {\n",
       "      inline_js[i].call(root, root.Bokeh);\n",
       "    }\n",
       "    if (force === true) {\n",
       "        display_loaded();\n",
       "      }} else if (Date.now() < root._bokeh_timeout) {\n",
       "      setTimeout(run_inline_js, 100);\n",
       "    } else if (!root._bokeh_failed_load) {\n",
       "      console.log(\"Bokeh: BokehJS failed to load within specified timeout.\");\n",
       "      root._bokeh_failed_load = true;\n",
       "    } else if (force !== true) {\n",
       "      var cell = $(document.getElementById(\"40338\")).parents('.cell').data().cell;\n",
       "      cell.output_area.append_execute_result(NB_LOAD_WARNING)\n",
       "    }\n",
       "\n",
       "  }\n",
       "\n",
       "  if (root._bokeh_is_loading === 0) {\n",
       "    console.debug(\"Bokeh: BokehJS loaded, going straight to plotting\");\n",
       "    run_inline_js();\n",
       "  } else {\n",
       "    load_libs(css_urls, js_urls, function() {\n",
       "      console.debug(\"Bokeh: BokehJS plotting callback run at\", now());\n",
       "      run_inline_js();\n",
       "    });\n",
       "  }\n",
       "}(window));"
      ],
      "application/vnd.bokehjs_load.v0+json": "\n(function(root) {\n  function now() {\n    return new Date();\n  }\n\n  var force = true;\n\n  if (typeof root._bokeh_onload_callbacks === \"undefined\" || force === true) {\n    root._bokeh_onload_callbacks = [];\n    root._bokeh_is_loading = undefined;\n  }\n\n  \n\n  \n  if (typeof (root._bokeh_timeout) === \"undefined\" || force === true) {\n    root._bokeh_timeout = Date.now() + 5000;\n    root._bokeh_failed_load = false;\n  }\n\n  var NB_LOAD_WARNING = {'data': {'text/html':\n     \"<div style='background-color: #fdd'>\\n\"+\n     \"<p>\\n\"+\n     \"BokehJS does not appear to have successfully loaded. If loading BokehJS from CDN, this \\n\"+\n     \"may be due to a slow or bad network connection. Possible fixes:\\n\"+\n     \"</p>\\n\"+\n     \"<ul>\\n\"+\n     \"<li>re-rerun `output_notebook()` to attempt to load from CDN again, or</li>\\n\"+\n     \"<li>use INLINE resources instead, as so:</li>\\n\"+\n     \"</ul>\\n\"+\n     \"<code>\\n\"+\n     \"from bokeh.resources import INLINE\\n\"+\n     \"output_notebook(resources=INLINE)\\n\"+\n     \"</code>\\n\"+\n     \"</div>\"}};\n\n  function display_loaded() {\n    var el = document.getElementById(\"40338\");\n    if (el != null) {\n      el.textContent = \"BokehJS is loading...\";\n    }\n    if (root.Bokeh !== undefined) {\n      if (el != null) {\n        el.textContent = \"BokehJS \" + root.Bokeh.version + \" successfully loaded.\";\n      }\n    } else if (Date.now() < root._bokeh_timeout) {\n      setTimeout(display_loaded, 100)\n    }\n  }\n\n\n  function run_callbacks() {\n    try {\n      root._bokeh_onload_callbacks.forEach(function(callback) {\n        if (callback != null)\n          callback();\n      });\n    } finally {\n      delete root._bokeh_onload_callbacks\n    }\n    console.debug(\"Bokeh: all callbacks have finished\");\n  }\n\n  function load_libs(css_urls, js_urls, callback) {\n    if (css_urls == null) css_urls = [];\n    if (js_urls == null) js_urls = [];\n\n    root._bokeh_onload_callbacks.push(callback);\n    if (root._bokeh_is_loading > 0) {\n      console.debug(\"Bokeh: BokehJS is being loaded, scheduling callback at\", now());\n      return null;\n    }\n    if (js_urls == null || js_urls.length === 0) {\n      run_callbacks();\n      return null;\n    }\n    console.debug(\"Bokeh: BokehJS not loaded, scheduling load and callback at\", now());\n    root._bokeh_is_loading = css_urls.length + js_urls.length;\n\n    function on_load() {\n      root._bokeh_is_loading--;\n      if (root._bokeh_is_loading === 0) {\n        console.debug(\"Bokeh: all BokehJS libraries/stylesheets loaded\");\n        run_callbacks()\n      }\n    }\n\n    function on_error() {\n      console.error(\"failed to load \" + url);\n    }\n\n    for (var i = 0; i < css_urls.length; i++) {\n      var url = css_urls[i];\n      const element = document.createElement(\"link\");\n      element.onload = on_load;\n      element.onerror = on_error;\n      element.rel = \"stylesheet\";\n      element.type = \"text/css\";\n      element.href = url;\n      console.debug(\"Bokeh: injecting link tag for BokehJS stylesheet: \", url);\n      document.body.appendChild(element);\n    }\n\n    const hashes = {\"https://cdn.bokeh.org/bokeh/release/bokeh-2.0.2.min.js\": \"ufR9RFnRs6lniiaFvtJziE0YeidtAgBRH6ux2oUItHw5WTvE1zuk9uzhUU/FJXDp\", \"https://cdn.bokeh.org/bokeh/release/bokeh-widgets-2.0.2.min.js\": \"8QM/PGWBT+IssZuRcDcjzwIh1mkOmJSoNMmyYDZbCfXJg3Ap1lEvdVgFuSAwhb/J\", \"https://cdn.bokeh.org/bokeh/release/bokeh-tables-2.0.2.min.js\": \"Jm8cH3Rg0P6UeZhVY5cLy1WzKajUT9KImCY+76hEqrcJt59/d8GPvFHjCkYgnSIn\", \"https://cdn.bokeh.org/bokeh/release/bokeh-gl-2.0.2.min.js\": \"Ozhzj+SI7ywm74aOI/UajcWz+C0NjsPunEVyVIrxzYkB+jA+2tUw8x5xJCbVtK5I\"};\n\n    for (var i = 0; i < js_urls.length; i++) {\n      var url = js_urls[i];\n      var element = document.createElement('script');\n      element.onload = on_load;\n      element.onerror = on_error;\n      element.async = false;\n      element.src = url;\n      if (url in hashes) {\n        element.crossOrigin = \"anonymous\";\n        element.integrity = \"sha384-\" + hashes[url];\n      }\n      console.debug(\"Bokeh: injecting script tag for BokehJS library: \", url);\n      document.head.appendChild(element);\n    }\n  };\n\n  function inject_raw_css(css) {\n    const element = document.createElement(\"style\");\n    element.appendChild(document.createTextNode(css));\n    document.body.appendChild(element);\n  }\n\n  \n  var js_urls = [\"https://cdn.bokeh.org/bokeh/release/bokeh-2.0.2.min.js\", \"https://cdn.bokeh.org/bokeh/release/bokeh-widgets-2.0.2.min.js\", \"https://cdn.bokeh.org/bokeh/release/bokeh-tables-2.0.2.min.js\", \"https://cdn.bokeh.org/bokeh/release/bokeh-gl-2.0.2.min.js\"];\n  var css_urls = [];\n  \n\n  var inline_js = [\n    function(Bokeh) {\n      Bokeh.set_log_level(\"info\");\n    },\n    function(Bokeh) {\n    \n    \n    }\n  ];\n\n  function run_inline_js() {\n    \n    if (root.Bokeh !== undefined || force === true) {\n      \n    for (var i = 0; i < inline_js.length; i++) {\n      inline_js[i].call(root, root.Bokeh);\n    }\n    if (force === true) {\n        display_loaded();\n      }} else if (Date.now() < root._bokeh_timeout) {\n      setTimeout(run_inline_js, 100);\n    } else if (!root._bokeh_failed_load) {\n      console.log(\"Bokeh: BokehJS failed to load within specified timeout.\");\n      root._bokeh_failed_load = true;\n    } else if (force !== true) {\n      var cell = $(document.getElementById(\"40338\")).parents('.cell').data().cell;\n      cell.output_area.append_execute_result(NB_LOAD_WARNING)\n    }\n\n  }\n\n  if (root._bokeh_is_loading === 0) {\n    console.debug(\"Bokeh: BokehJS loaded, going straight to plotting\");\n    run_inline_js();\n  } else {\n    load_libs(css_urls, js_urls, function() {\n      console.debug(\"Bokeh: BokehJS plotting callback run at\", now());\n      run_inline_js();\n    });\n  }\n}(window));"
     },
     "metadata": {},
     "output_type": "display_data"
    }
   ],
   "source": [
    "from ipywidgets import interact\n",
    "import numpy as np\n",
    "import pandas as pd\n",
    "\n",
    "from bokeh.io import push_notebook, show, output_notebook\n",
    "from bokeh.plotting import figure\n",
    "from bokeh.models import Legend, LegendItem\n",
    "\n",
    "import warnings\n",
    "warnings.filterwarnings('ignore')\n",
    "output_notebook()"
   ]
  },
  {
   "cell_type": "markdown",
   "metadata": {},
   "source": [
    "## Import Data"
   ]
  },
  {
   "cell_type": "code",
   "execution_count": 51,
   "metadata": {},
   "outputs": [
    {
     "data": {
      "text/html": [
       "<div>\n",
       "<style scoped>\n",
       "    .dataframe tbody tr th:only-of-type {\n",
       "        vertical-align: middle;\n",
       "    }\n",
       "\n",
       "    .dataframe tbody tr th {\n",
       "        vertical-align: top;\n",
       "    }\n",
       "\n",
       "    .dataframe thead th {\n",
       "        text-align: right;\n",
       "    }\n",
       "</style>\n",
       "<table border=\"1\" class=\"dataframe\">\n",
       "  <thead>\n",
       "    <tr style=\"text-align: right;\">\n",
       "      <th></th>\n",
       "      <th>customer_id</th>\n",
       "      <th>product_id</th>\n",
       "      <th>date</th>\n",
       "    </tr>\n",
       "  </thead>\n",
       "  <tbody>\n",
       "    <tr>\n",
       "      <th>0</th>\n",
       "      <td>6689489</td>\n",
       "      <td>0A4G5LZWCP</td>\n",
       "      <td>2017-01-31 09:31:08.873000+00:00</td>\n",
       "    </tr>\n",
       "    <tr>\n",
       "      <th>1</th>\n",
       "      <td>6689489</td>\n",
       "      <td>XZ6UVEYK40</td>\n",
       "      <td>2017-02-03 16:59:16.610000+00:00</td>\n",
       "    </tr>\n",
       "    <tr>\n",
       "      <th>2</th>\n",
       "      <td>6689489</td>\n",
       "      <td>XZ6UVEYK40</td>\n",
       "      <td>2017-02-05 19:47:55.353000+00:00</td>\n",
       "    </tr>\n",
       "    <tr>\n",
       "      <th>3</th>\n",
       "      <td>6689489</td>\n",
       "      <td>XZ6UVEYK40</td>\n",
       "      <td>2017-02-05 19:48:14.633000+00:00</td>\n",
       "    </tr>\n",
       "    <tr>\n",
       "      <th>4</th>\n",
       "      <td>6689489</td>\n",
       "      <td>XZ6UVEYK40</td>\n",
       "      <td>2017-02-06 09:59:49.053000+00:00</td>\n",
       "    </tr>\n",
       "    <tr>\n",
       "      <th>...</th>\n",
       "      <td>...</td>\n",
       "      <td>...</td>\n",
       "      <td>...</td>\n",
       "    </tr>\n",
       "    <tr>\n",
       "      <th>975950</th>\n",
       "      <td>9770266</td>\n",
       "      <td>5RPSDK28JR</td>\n",
       "      <td>2019-05-17 10:06:43.037000+00:00</td>\n",
       "    </tr>\n",
       "    <tr>\n",
       "      <th>975951</th>\n",
       "      <td>2552305</td>\n",
       "      <td>5RPSDK28JR</td>\n",
       "      <td>2017-10-27 17:49:54.483000+00:00</td>\n",
       "    </tr>\n",
       "    <tr>\n",
       "      <th>975952</th>\n",
       "      <td>6004163</td>\n",
       "      <td>I2IYFZIO6X</td>\n",
       "      <td>2019-01-09 16:31:08.133000+00:00</td>\n",
       "    </tr>\n",
       "    <tr>\n",
       "      <th>975953</th>\n",
       "      <td>6632569</td>\n",
       "      <td>0A4G5LZWCP</td>\n",
       "      <td>2017-03-29 16:25:05.907000+00:00</td>\n",
       "    </tr>\n",
       "    <tr>\n",
       "      <th>975954</th>\n",
       "      <td>9277279</td>\n",
       "      <td>5RPSDK28JR</td>\n",
       "      <td>2020-03-16 22:39:59.247000+00:00</td>\n",
       "    </tr>\n",
       "  </tbody>\n",
       "</table>\n",
       "<p>975955 rows × 3 columns</p>\n",
       "</div>"
      ],
      "text/plain": [
       "        customer_id  product_id                             date\n",
       "0           6689489  0A4G5LZWCP 2017-01-31 09:31:08.873000+00:00\n",
       "1           6689489  XZ6UVEYK40 2017-02-03 16:59:16.610000+00:00\n",
       "2           6689489  XZ6UVEYK40 2017-02-05 19:47:55.353000+00:00\n",
       "3           6689489  XZ6UVEYK40 2017-02-05 19:48:14.633000+00:00\n",
       "4           6689489  XZ6UVEYK40 2017-02-06 09:59:49.053000+00:00\n",
       "...             ...         ...                              ...\n",
       "975950      9770266  5RPSDK28JR 2019-05-17 10:06:43.037000+00:00\n",
       "975951      2552305  5RPSDK28JR 2017-10-27 17:49:54.483000+00:00\n",
       "975952      6004163  I2IYFZIO6X 2019-01-09 16:31:08.133000+00:00\n",
       "975953      6632569  0A4G5LZWCP 2017-03-29 16:25:05.907000+00:00\n",
       "975954      9277279  5RPSDK28JR 2020-03-16 22:39:59.247000+00:00\n",
       "\n",
       "[975955 rows x 3 columns]"
      ]
     },
     "execution_count": 51,
     "metadata": {},
     "output_type": "execute_result"
    }
   ],
   "source": [
    "data_1 = pd.read_csv('customer_transactions_history-main/transactions_1.csv')\n",
    "data_2 = pd.read_csv('customer_transactions_history-main/transactions_2.csv')\n",
    "\n",
    "# concat two csv file to one dataframe\n",
    "data_all = pd.concat([data_1, data_2]).drop(columns=['Unnamed: 0']).reset_index()\n",
    "data_all = data_all.drop(columns=['index'])\n",
    "\n",
    "# parsing datetime feature with pd.Timestamp()\n",
    "data_all['date'] = [pd.Timestamp(i) for i in data_all.date]\n",
    "\n",
    "data_all"
   ]
  },
  {
   "cell_type": "markdown",
   "metadata": {},
   "source": [
    "## Data slicer"
   ]
  },
  {
   "cell_type": "code",
   "execution_count": null,
   "metadata": {},
   "outputs": [],
   "source": [
    "def slice_data(data, start_year, end_year, start_month, end_month):\n",
    "    data = data.copy(deep=True)\n",
    "    data = data[data.date > pd.Timestamp(f'{start_year}-{start_month}-01T00:00:00.000Z')][data.date < pd.Timestamp(f'{end_year}-{end_month}-01T00:00:00.000Z')]\n",
    "    return data\n",
    "\n",
    "slice_data(data_all, '2018', '2019', '01', '01')"
   ]
  },
  {
   "cell_type": "markdown",
   "metadata": {},
   "source": [
    "## Customer purchase freq"
   ]
  },
  {
   "cell_type": "code",
   "execution_count": 113,
   "metadata": {},
   "outputs": [
    {
     "data": {
      "text/html": [
       "\n",
       "\n",
       "\n",
       "\n",
       "\n",
       "\n",
       "  <div class=\"bk-root\" id=\"c430047a-b027-43b9-a228-9390a30c9986\" data-root-id=\"13808\"></div>\n"
      ]
     },
     "metadata": {},
     "output_type": "display_data"
    },
    {
     "data": {
      "application/javascript": [
       "(function(root) {\n",
       "  function embed_document(root) {\n",
       "    \n",
       "  var docs_json = {\"ab6a5320-e1e9-4829-a086-b0f130a90634\":{\"roots\":{\"references\":[{\"attributes\":{\"below\":[{\"id\":\"13817\"}],\"center\":[{\"id\":\"13820\"},{\"id\":\"13824\"}],\"left\":[{\"id\":\"13821\"}],\"plot_height\":400,\"renderers\":[{\"id\":\"13846\"}],\"title\":{\"id\":\"14270\"},\"toolbar\":{\"id\":\"13835\"},\"x_range\":{\"id\":\"13809\"},\"x_scale\":{\"id\":\"13813\"},\"y_range\":{\"id\":\"13811\"},\"y_scale\":{\"id\":\"13815\"}},\"id\":\"13808\",\"subtype\":\"Figure\",\"type\":\"Plot\"},{\"attributes\":{},\"id\":\"14279\",\"type\":\"UnionRenderers\"},{\"attributes\":{\"axis\":{\"id\":\"13817\"},\"ticker\":null},\"id\":\"13820\",\"type\":\"Grid\"},{\"attributes\":{\"data_source\":{\"id\":\"13843\"},\"glyph\":{\"id\":\"13844\"},\"hover_glyph\":null,\"muted_glyph\":null,\"nonselection_glyph\":{\"id\":\"13845\"},\"selection_glyph\":null,\"view\":{\"id\":\"13847\"}},\"id\":\"13846\",\"type\":\"GlyphRenderer\"},{\"attributes\":{\"formatter\":{\"id\":\"14271\"},\"ticker\":{\"id\":\"13822\"}},\"id\":\"13821\",\"type\":\"LinearAxis\"},{\"attributes\":{\"fill_alpha\":{\"value\":0.1},\"fill_color\":{\"value\":\"darkslategray\"},\"line_alpha\":{\"value\":0.1},\"line_color\":{\"value\":null},\"radius\":{\"units\":\"data\",\"value\":7},\"x\":{\"field\":\"x\"},\"y\":{\"field\":\"y\"}},\"id\":\"13845\",\"type\":\"Circle\"},{\"attributes\":{},\"id\":\"13818\",\"type\":\"BasicTicker\"},{\"attributes\":{},\"id\":\"14278\",\"type\":\"Selection\"},{\"attributes\":{},\"id\":\"13822\",\"type\":\"BasicTicker\"},{\"attributes\":{\"fill_color\":{\"value\":\"darkslategray\"},\"line_color\":{\"value\":null},\"radius\":{\"units\":\"data\",\"value\":7},\"x\":{\"field\":\"x\"},\"y\":{\"field\":\"y\"}},\"id\":\"13844\",\"type\":\"Circle\"},{\"attributes\":{\"text\":\"\"},\"id\":\"14270\",\"type\":\"Title\"},{\"attributes\":{\"axis\":{\"id\":\"13821\"},\"dimension\":1,\"ticker\":null},\"id\":\"13824\",\"type\":\"Grid\"},{\"attributes\":{},\"id\":\"14271\",\"type\":\"BasicTickFormatter\"},{\"attributes\":{},\"id\":\"14273\",\"type\":\"BasicTickFormatter\"},{\"attributes\":{},\"id\":\"13825\",\"type\":\"CrosshairTool\"},{\"attributes\":{},\"id\":\"13826\",\"type\":\"PanTool\"},{\"attributes\":{},\"id\":\"13827\",\"type\":\"WheelZoomTool\"},{\"attributes\":{\"end\":35463,\"start\":-500},\"id\":\"13811\",\"type\":\"Range1d\"},{\"attributes\":{\"overlay\":{\"id\":\"13833\"}},\"id\":\"13828\",\"type\":\"BoxZoomTool\"},{\"attributes\":{\"end\":2101,\"start\":-50},\"id\":\"13809\",\"type\":\"Range1d\"},{\"attributes\":{},\"id\":\"13829\",\"type\":\"ResetTool\"},{\"attributes\":{\"overlay\":{\"id\":\"13832\"}},\"id\":\"13830\",\"type\":\"BoxSelectTool\"},{\"attributes\":{\"overlay\":{\"id\":\"13834\"}},\"id\":\"13831\",\"type\":\"LassoSelectTool\"},{\"attributes\":{\"formatter\":{\"id\":\"14273\"},\"ticker\":{\"id\":\"13818\"}},\"id\":\"13817\",\"type\":\"LinearAxis\"},{\"attributes\":{},\"id\":\"13813\",\"type\":\"LinearScale\"},{\"attributes\":{\"active_drag\":\"auto\",\"active_inspect\":\"auto\",\"active_multi\":null,\"active_scroll\":\"auto\",\"active_tap\":\"auto\",\"tools\":[{\"id\":\"13825\"},{\"id\":\"13826\"},{\"id\":\"13827\"},{\"id\":\"13828\"},{\"id\":\"13829\"},{\"id\":\"13830\"},{\"id\":\"13831\"}]},\"id\":\"13835\",\"type\":\"Toolbar\"},{\"attributes\":{\"bottom_units\":\"screen\",\"fill_alpha\":0.5,\"fill_color\":\"lightgrey\",\"left_units\":\"screen\",\"level\":\"overlay\",\"line_alpha\":1.0,\"line_color\":\"black\",\"line_dash\":[4,4],\"line_width\":2,\"render_mode\":\"css\",\"right_units\":\"screen\",\"top_units\":\"screen\"},\"id\":\"13833\",\"type\":\"BoxAnnotation\"},{\"attributes\":{\"bottom_units\":\"screen\",\"fill_alpha\":0.5,\"fill_color\":\"lightgrey\",\"left_units\":\"screen\",\"level\":\"overlay\",\"line_alpha\":1.0,\"line_color\":\"black\",\"line_dash\":[4,4],\"line_width\":2,\"render_mode\":\"css\",\"right_units\":\"screen\",\"top_units\":\"screen\"},\"id\":\"13832\",\"type\":\"BoxAnnotation\"},{\"attributes\":{\"data\":{\"x\":[0,1,2,3,4,5,6,7,8,9,10,11,12,13,14,15,16,17,18,19,20,21,22,23,24,25,26,27,28,29,30,31,32,33,34,35,36,37,38,39,40,41,42,43,44,45,46,47,48,49,50,51,52,53,54,55,56,57,58,59,60,61,62,63,64,65,66,67,68,69,70,71,72,73,74,75,76,77,78,79,80,81,82,83,84,85,86,87,88,89,90,91,92,93,94,95,96,97,98,99,100,101,102,103,104,105,106,107,108,109,110,111,112,113,114,115,116,117,118,119,120,121,122,123,124,125,126,127,128,129,130,131,132,133,134,135,136,137,138,139,140,141,142,143,144,145,146,147,148,149,150,151,152,153,154,155,156,157,158,159,160,161,162,163,164,165,166,167,168,169,170,171,172,173,174,175,176,177,178,179,180,181,182,183,184,185,186,187,188,189,190,191,192,193,194,195,196,197,198,199,200,201,202,203,204,205,206,207,208,209,210,211,212,213,214,215,216,217,218,219,220,221,222,223,224,225,226,227,228,229,230,231,232,233,234,235,236,237,238,239,240,241,242,243,244,245,246,247,248,249,250,251,252,253,254,255,256,257,258,259,260,261,262,263,264,265,266,267,268,269,270,271,272,273,274,275,276,277,278,279,280,281,282,283,284,285,286,287,288,289,290,291,292,293,294,295,296,297,298,299,300,301,302,303,304,305,306,307,308,309,310,311,312,313,314,315,316,317,318,319,320,321,322,323,324,325,326,327,328,329,330,331,332,333,334,335,336,337,338,339,340,341,342,343,344,345,346,347,348,349,350,351,352,353,354,355,356,357,358,359,360,361,362,363,364,365,366,367,368,369,370,371,372,373,374,375,376,377,378,379,380,381,382,383,384,385,386,387,388,389,390,391,392,393,394,395,396,397,398,399,400,401,402,403,404,405,406,407,408,409,410,411,412,413,414,415,416,417,418,419,420,421,422,423,424,425,426,427,428,429,430,431,432,433,434,435,436,437,438,439,440,441,442,443,444,445,446,447,448,449,450,451,452,453,454,455,456,457,458,459,460,461,462,463,464,465,466,467,468,469,470,471,472,473,474,475,476,477,478,479,480,481,482,483,484,485,486,487,488,489,490,491,492,493,494,495,496,497,498,499,500,501,502,503,504,505,506,507,508,509,510,511,512,513,514,515,516,517,518,519,520,521,522,523,524,525,526,527,528,529,530,531,532,533,534,535,536,537,538,539,540,541,542,543,544,545,546,547,548,549,550,551,552,553,554,555,556,557,558,559,560,561,562,563,564,565,566,567,568,569,570,571,572,573,574,575,576,577,578,579,580,581,582,583,584,585,586,587,588,589,590,591,592,593,594,595,596,597,598,599,600,601,602,603,604,605,606,607,608,609,610,611,612,613,614,615,616,617,618,619,620,621,622,623,624,625,626,627,628,629,630,631,632,633,634,635,636,637,638,639,640,641,642,643,644,645,646,647,648,649,650,651,652,653,654,655,656,657,658,659,660,661,662,663,664,665,666,667,668,669,670,671,672,673,674,675,676,677,678,679,680,681,682,683,684,685,686,687,688,689,690,691,692,693,694,695,696,697,698,699,700,701,702,703,704,705,706,707,708,709,710,711,712,713,714,715,716,717,718,719,720,721,722,723,724,725,726,727,728,729,730,731,732,733,734,735,736,737,738,739,740,741,742,743,744,745,746,747,748,749,750,751,752,753,754,755,756,757,758,759,760,761,762,763,764,765,766,767,768,769,770,771,772,773,774,775,776,777,778,779,780,781,782,783,784,785,786,787,788,789,790,791,792,793,794,795,796,797,798,799,800,801,802,803,804,805,806,807,808,809,810,811,812,813,814,815,816,817,818,819,820,821,822,823,824,825,826,827,828,829,830,831,832,833,834,835,836,837,838,839,840,841,842,843,844,845,846,847,848,849,850,851,852,853,854,855,856,857,858,859,860,861,862,863,864,865,866,867,868,869,870,871,872,873,874,875,876,877,878,879,880,881,882,883,884,885,886,887,888,889,890,891,892,893,894,895,896,897,898,899,900,901,902,903,904,905,906,907,908,909,910,911,912,913,914,915,916,917,918,919,920,921,922,923,924,925,926,927,928,929,930,931,932,933,934,935,936,937,938,939,940,941,942,943,944,945,946,947,948,949,950,951,952,953,954,955,956,957,958,959,960,961,962,963,964,965,966,967,968,969,970,971,972,973,974,975,976,977,978,979,980,981,982,983,984,985,986,987,988,989,990,991,992,993,994,995,996,997,998,999,1000,1001,1002,1003,1004,1005,1006,1007,1008,1009,1010,1011,1012,1013,1014,1015,1016,1017,1018,1019,1020,1021,1022,1023,1024,1025,1026,1027,1028,1029,1030,1031,1032,1033,1034,1035,1036,1037,1038,1039,1040,1041,1042,1043,1044,1045,1046,1047,1048,1049,1050,1051,1052,1053,1054,1055,1056,1057,1058,1059,1060,1061,1062,1063,1064,1065,1066,1067,1068,1069,1070,1071,1072,1073,1074,1075,1076,1077,1078,1079,1080,1081,1082,1083,1084,1085,1086,1087,1088,1089,1090,1091,1092,1093,1094,1095,1096,1097,1098,1099,1100,1101,1102,1103,1104,1105,1106,1107,1108,1109,1110,1111,1112,1113,1114,1115,1116,1117,1118,1119,1120,1121,1122,1123,1124,1125,1126,1127,1128,1129,1130,1131,1132,1133,1134,1135,1136,1137,1138,1139,1140,1141,1142,1143,1144,1145,1146,1147,1148,1149,1150,1151,1152,1153,1154,1155,1156,1157,1158,1159,1160,1161,1162,1163,1164,1165,1166,1167,1168,1169,1170,1171,1172,1173,1174,1175,1176,1177,1178,1179,1180,1181,1182,1183,1184,1185,1186,1187,1188,1189,1190,1191,1192,1193,1194,1195,1196,1197,1198,1199,1200,1201,1202,1203,1204,1205,1206,1207,1208,1209,1210,1211,1212,1213,1214,1215,1216,1217,1218,1219,1220,1221,1222,1223,1224,1225,1226,1227,1228,1229,1230,1231,1232,1233,1234,1235,1236,1237,1238,1239,1240,1241,1242,1243,1244,1245,1246,1247,1248,1249,1250,1251,1252,1253,1254,1255,1256,1257,1258,1259,1260,1261,1262,1263,1264,1265,1266,1267,1268,1269,1270,1271,1272,1273,1274,1275,1276,1277,1278,1279,1280,1281,1282,1283,1284,1285,1286,1287,1288,1289,1290,1291,1292,1293,1294,1295,1296,1297,1298,1299,1300,1301,1302,1303,1304,1305,1306,1307,1308,1309,1310,1311,1312,1313,1314,1315,1316,1317,1318,1319,1320,1321,1322,1323,1324,1325,1326,1327,1328,1329,1330,1331,1332,1333,1334,1335,1336,1337,1338,1339,1340,1341,1342,1343,1344,1345,1346,1347,1348,1349,1350,1351,1352,1353,1354,1355,1356,1357,1358,1359,1360,1361,1362,1363,1364,1365,1366,1367,1368,1369,1370,1371,1372,1373,1374,1375,1376,1377,1378,1379,1380,1381,1382,1383,1384,1385,1386,1387,1388,1389,1390,1391,1392,1393,1394,1395,1396,1397,1398,1399,1400,1401,1402,1403,1404,1405,1406,1407,1408,1409,1410,1411,1412,1413,1414,1415,1416,1417,1418,1419,1420,1421,1422,1423,1424,1425,1426,1427,1428,1429,1430,1431,1432,1433,1434,1435,1436,1437,1438,1439,1440,1441,1442,1443,1444,1445,1446,1447,1448,1449,1450,1451,1452,1453,1454,1455,1456,1457,1458,1459,1460,1461,1462,1463,1464,1465,1466,1467,1468,1469,1470,1471,1472,1473,1474,1475,1476,1477,1478,1479,1480,1481,1482,1483,1484,1485,1486,1487,1488,1489,1490,1491,1492,1493,1494,1495,1496,1497,1498,1499,1500,1501,1502,1503,1504,1505,1506,1507,1508,1509,1510,1511,1512,1513,1514,1515,1516,1517,1518,1519,1520,1521,1522,1523,1524,1525,1526,1527,1528,1529,1530,1531,1532,1533,1534,1535,1536,1537,1538,1539,1540,1541,1542,1543,1544,1545,1546,1547,1548,1549,1550,1551,1552,1553,1554,1555,1556,1557,1558,1559,1560,1561,1562,1563,1564,1565,1566,1567,1568,1569,1570,1571,1572,1573,1574,1575,1576,1577,1578,1579,1580,1581,1582,1583,1584,1585,1586,1587,1588,1589,1590,1591,1592,1593,1594,1595,1596,1597,1598,1599,1600,1601,1602,1603,1604,1605,1606,1607,1608,1609,1610,1611,1612,1613,1614,1615,1616,1617,1618,1619,1620,1621,1622,1623,1624,1625,1626,1627,1628,1629,1630,1631,1632,1633,1634,1635,1636,1637,1638,1639,1640,1641,1642,1643,1644,1645,1646,1647,1648,1649,1650,1651,1652,1653,1654,1655,1656,1657,1658,1659,1660,1661,1662,1663,1664,1665,1666,1667,1668,1669,1670,1671,1672,1673,1674,1675,1676,1677,1678,1679,1680,1681,1682,1683,1684,1685,1686,1687,1688,1689,1690,1691,1692,1693,1694,1695,1696,1697,1698,1699,1700,1701,1702,1703,1704,1705,1706,1707,1708,1709,1710,1711,1712,1713,1714,1715,1716,1717,1718,1719,1720,1721,1722,1723,1724,1725,1726,1727,1728,1729,1730,1731,1732,1733,1734,1735,1736,1737,1738,1739,1740,1741,1742,1743,1744,1745,1746,1747,1748,1749,1750,1751,1752,1753,1754,1755,1756,1757,1758,1759,1760,1761,1762,1763,1764,1765,1766,1767,1768,1769,1770,1771,1772,1773,1774,1775,1776,1777,1778,1779,1780,1781,1782,1783,1784,1785,1786,1787,1788,1789,1790,1791,1792,1793,1794,1795,1796,1797,1798,1799,1800,1801,1802,1803,1804,1805,1806,1807,1808,1809,1810,1811,1812,1813,1814,1815,1816,1817,1818,1819,1820,1821,1822,1823,1824,1825,1826,1827,1828,1829,1830,1831,1832,1833,1834,1835,1836,1837,1838,1839,1840,1841,1842,1843,1844,1845,1846,1847,1848,1849,1850,1851,1852,1853,1854,1855,1856,1857,1858,1859,1860,1861,1862,1863,1864,1865,1866,1867,1868,1869,1870,1871,1872,1873,1874,1875,1876,1877,1878,1879,1880,1881,1882,1883,1884,1885,1886,1887,1888,1889,1890,1891,1892,1893,1894,1895,1896,1897,1898,1899,1900,1901,1902,1903,1904,1905,1906,1907,1908,1909,1910,1911,1912,1913,1914,1915,1916,1917,1918,1919,1920,1921,1922,1923,1924,1925,1926,1927,1928,1929,1930,1931,1932,1933,1934,1935,1936,1937,1938,1939,1940,1941,1942,1943,1944,1945,1946,1947,1948,1949,1950,1951,1952,1953,1954,1955,1956,1957,1958,1959,1960,1961,1962,1963,1964,1965,1966,1967,1968,1969,1970,1971,1972,1973,1974,1975,1976,1977,1978,1979,1980,1981,1982,1983,1984,1985,1986,1987,1988,1989,1990,1991,1992,1993,1994,1995,1996,1997,1998,1999,2000,2001],\"y\":[34963,33355,18927,13450,10490,10472,10330,9415,9362,9254,9119,8969,7876,7817,7470,7461,7415,7254,7047,6351,5903,5819,5797,5696,5303,4800,4790,4779,4602,4600,4551,4393,4300,4247,4183,3992,3968,3914,3869,3784,3651,3548,3516,3492,3433,3430,3272,3231,3174,3139,3138,3111,3107,3094,3057,3047,3033,2966,2962,2889,2851,2811,2805,2773,2679,2679,2597,2586,2569,2536,2531,2480,2437,2409,2385,2377,2351,2327,2253,2237,2225,2216,2216,2213,2212,2210,2188,2187,2160,2145,2135,2119,2104,2092,2074,2065,1996,1993,1973,1969,1959,1954,1916,1900,1892,1883,1869,1826,1824,1818,1811,1792,1784,1784,1775,1770,1763,1753,1752,1747,1739,1730,1718,1712,1699,1695,1680,1677,1674,1673,1672,1648,1621,1613,1610,1599,1597,1597,1582,1530,1514,1495,1484,1484,1475,1466,1456,1446,1438,1437,1422,1410,1408,1408,1398,1378,1377,1372,1360,1356,1337,1331,1315,1304,1301,1297,1295,1289,1279,1279,1274,1272,1265,1263,1250,1246,1235,1234,1223,1218,1213,1207,1201,1188,1184,1184,1180,1173,1162,1156,1155,1150,1148,1146,1144,1140,1135,1128,1128,1125,1121,1112,1110,1110,1108,1107,1101,1096,1092,1090,1089,1083,1083,1081,1071,1070,1060,1055,1051,1038,1035,1033,1031,1030,1029,1026,1026,1025,1011,1008,1004,1002,1002,1001,990,990,988,986,982,979,976,974,968,963,951,946,940,935,934,928,928,921,918,911,907,905,902,898,896,894,879,870,868,863,861,860,860,855,852,851,841,839,838,838,837,834,830,822,819,814,813,811,807,806,805,793,791,789,781,776,775,774,770,768,767,760,754,746,745,740,737,736,736,735,734,734,728,725,725,723,722,721,716,707,701,697,697,695,695,692,692,692,689,688,687,684,683,677,676,672,668,665,664,664,663,663,659,657,656,654,653,650,648,644,639,638,636,632,631,631,627,627,626,625,623,618,617,613,610,607,605,605,602,598,597,595,594,590,589,589,587,587,587,584,583,582,582,579,577,577,576,574,566,564,563,554,553,551,541,538,536,534,532,531,530,529,529,529,528,527,527,524,523,521,520,519,518,517,516,516,515,513,512,512,509,509,508,504,503,503,501,499,498,496,495,495,494,491,490,490,489,488,486,480,479,477,474,474,474,471,467,466,465,464,463,461,461,459,457,456,456,454,454,452,452,452,449,449,443,442,439,437,434,433,433,431,431,431,431,430,425,425,423,421,420,420,420,418,415,413,412,411,410,409,409,407,406,404,403,402,401,401,400,400,399,397,395,395,395,395,394,394,393,392,392,391,391,391,390,390,390,388,387,386,386,383,379,379,378,378,377,374,374,374,372,372,370,368,367,366,366,366,366,365,364,363,363,363,361,361,359,358,358,358,357,355,355,354,353,352,352,351,351,350,349,348,348,348,348,347,347,346,344,344,342,342,342,340,339,338,337,337,336,335,333,332,332,332,331,328,328,328,328,326,326,325,325,325,324,323,322,322,318,315,315,314,313,313,313,312,312,311,310,309,309,308,306,305,304,303,303,302,298,295,294,294,294,293,292,291,289,288,288,287,286,286,285,281,278,275,274,273,272,271,270,269,269,268,268,267,267,266,266,266,266,264,264,263,262,262,262,261,261,261,261,260,260,259,257,256,256,255,254,254,254,253,253,253,252,251,250,250,249,249,249,248,248,247,246,244,243,243,242,242,242,242,242,241,239,238,238,237,236,236,236,235,234,232,232,232,231,231,230,230,229,229,229,229,228,228,228,228,228,227,226,224,224,223,222,222,221,221,219,219,219,219,218,216,216,213,213,212,212,211,211,211,211,209,209,208,208,207,207,206,206,205,205,204,203,203,203,203,201,201,200,199,199,198,198,198,198,198,197,197,196,196,196,196,195,195,195,195,195,194,194,192,191,191,190,190,189,188,187,187,187,186,186,185,184,184,183,183,183,182,182,180,180,179,179,178,176,176,176,175,175,174,174,173,173,172,172,172,172,172,171,171,170,170,169,168,168,168,167,167,167,167,166,165,165,165,165,165,164,164,164,164,164,163,163,163,161,160,160,160,160,159,159,159,159,158,158,158,157,157,157,156,155,155,155,154,154,154,153,153,153,152,152,152,152,152,151,151,151,151,151,150,150,150,150,148,148,147,146,146,146,146,146,145,145,145,143,142,142,141,141,141,140,139,138,138,136,136,135,135,135,134,134,134,134,134,133,133,132,132,132,132,131,131,131,130,130,130,128,128,128,128,127,127,126,126,126,126,125,125,125,125,124,124,124,124,124,124,123,123,123,120,120,119,119,119,119,119,119,119,119,118,117,117,116,116,116,115,113,113,113,112,112,111,111,111,111,110,110,110,110,109,109,109,109,109,108,107,107,107,107,106,106,106,106,106,106,105,105,105,104,104,104,104,104,104,103,103,103,103,103,103,102,102,101,101,101,101,100,99,98,98,98,98,98,97,97,97,96,96,96,96,96,96,95,94,94,94,94,93,93,93,93,92,92,92,92,91,91,91,90,90,90,90,89,89,89,89,88,88,88,88,87,86,86,86,86,86,86,86,86,85,85,84,84,84,83,83,83,83,82,81,80,80,80,80,79,79,79,79,78,78,78,78,77,77,77,77,77,76,76,76,75,75,75,75,75,75,75,74,74,74,74,74,73,73,73,72,72,72,72,71,71,71,71,70,70,70,70,70,69,69,69,69,68,68,67,67,67,66,66,66,66,65,65,65,65,65,64,64,64,64,63,63,63,63,63,63,63,63,62,62,62,62,62,61,60,60,60,59,58,58,58,57,57,57,57,57,57,57,57,57,57,57,56,56,56,56,56,56,55,54,54,54,54,54,54,54,54,54,53,53,53,53,53,53,52,52,52,52,52,52,52,51,51,51,51,51,51,50,50,50,50,50,49,49,49,49,49,48,48,48,48,48,48,48,47,47,47,47,47,46,46,46,46,46,46,46,46,45,45,45,45,45,45,45,44,44,44,44,44,44,44,44,44,44,43,43,43,43,43,43,43,43,43,43,43,42,42,42,42,42,42,42,42,42,41,41,41,41,41,41,41,41,40,40,40,40,40,40,40,40,40,40,40,39,39,39,39,39,39,39,38,38,38,38,38,38,38,38,37,37,37,37,37,37,37,37,37,37,37,37,36,36,36,36,36,36,36,36,36,35,35,35,35,35,35,35,34,34,34,34,34,34,34,34,34,34,33,33,33,33,33,33,33,33,33,33,33,32,32,32,32,32,32,32,32,32,32,32,32,31,31,31,31,31,31,31,31,31,31,31,31,30,30,30,30,30,30,30,30,30,30,30,30,29,29,29,29,29,29,29,29,29,29,29,28,28,28,28,28,28,28,28,28,28,28,28,27,27,27,27,27,27,27,27,27,27,27,27,27,27,26,26,26,26,26,26,26,26,26,25,25,25,25,25,25,25,25,25,25,24,24,24,24,24,24,24,24,23,23,23,23,23,23,23,23,23,23,23,23,23,23,22,22,22,22,22,22,22,22,22,22,22,22,22,21,21,21,21,21,21,21,21,21,21,21,20,20,20,20,20,20,20,20,20,20,20,20,20,20,20,20,20,19,19,19,19,19,19,19,19,19,18,18,18,18,18,18,18,18,18,18,18,18,18,17,17,17,17,17,17,17,17,17,17,17,17,17,17,17,17,17,17,17,17,16,16,16,16,16,16,16,16,16,16,16,16,16,16,15,15,15,15,15,15,15,15,15,15,15,15,15,15,15,15,15,15,15,15,15,15,15,15,14,14,14,14,14,14,14,14,14,14,14,14,14,14,14,14,13,13,13,13,13,13,13,13,13,13,13,13,13,13,12,12,12,12,12,12,12,12,12,12,12,12,12,12,12,11,11,11,11,11,11,11,11,11,11,11,11,11,11,11,11,11,11,11,11,11,10,10,10,10,10,10,10,10,10,10,10,10,10,10,10,10,10,10,9,9,9,9,9,9,9,9,9,9,9,9,9,9,9,8,8,8,8,8,8,8,8,8,8,8,8,8,8,8,8,8,8,8,8,8,8,8,8,7,7,7,7,7,7,7,7,7,7,7,7,7,7,7,7,7,7,7,7,7,7,7,7,6,6,6,6,6,6,6,6,6,6,6,6,6,6,6,6,6,6,6,6,6,6,6,6,6,6,6,6,6,6,6,5,5,5,5,5,5,5,5,5,5,5,5,5,5,5,5,5,5,5,5,5,5,5,5,5,5,5,5,5,5,4,4,4,4,4,4,4,4,4,4,4,4,4,4,4,4,4,4,4,4,4,4,4,4,4,4,4,4,4,4,4,3,3,3,3,3,3,3,3,3,3,3,3,3,3,3,3,3,3,3,3,3,3,3,3,3,3,3,3,2,2,2,2,2,2,2,2,2,2,2,2,2,2,2,2,2,2,2,2,2,2,2,2,2,2,2,2,2,2,2,2,2,2,2,2,2,2,2,2,2,2,2,2,2,2,2,2,2,2,2,2,2,2,2,1,1,1,1,1,1,1,1,1,1,1,1,1,1,1,1,1,1,1,1,1,1,1,1,1,1,1,1,1,1,1,1,1,1,1,1,1,1,1,1,1,1,1,1,1,1,1,1,1,1,1,1,1,1,1,1,1,1,1,1,1,1,1,1,1,1,1,1,1,1,1,1,1,1,1,1,1,1,1,1,1,1]},\"selected\":{\"id\":\"14278\"},\"selection_policy\":{\"id\":\"14279\"}},\"id\":\"13843\",\"type\":\"ColumnDataSource\"},{\"attributes\":{\"fill_alpha\":0.5,\"fill_color\":\"lightgrey\",\"level\":\"overlay\",\"line_alpha\":1.0,\"line_color\":\"black\",\"line_dash\":[4,4],\"line_width\":2,\"xs_units\":\"screen\",\"ys_units\":\"screen\"},\"id\":\"13834\",\"type\":\"PolyAnnotation\"},{\"attributes\":{},\"id\":\"13815\",\"type\":\"LinearScale\"},{\"attributes\":{\"source\":{\"id\":\"13843\"}},\"id\":\"13847\",\"type\":\"CDSView\"}],\"root_ids\":[\"13808\"]},\"title\":\"Bokeh Application\",\"version\":\"2.0.2\"}};\n",
       "  var render_items = [{\"docid\":\"ab6a5320-e1e9-4829-a086-b0f130a90634\",\"notebook_comms_target\":\"14280\",\"root_ids\":[\"13808\"],\"roots\":{\"13808\":\"c430047a-b027-43b9-a228-9390a30c9986\"}}];\n",
       "  root.Bokeh.embed.embed_items_notebook(docs_json, render_items);\n",
       "\n",
       "  }\n",
       "  if (root.Bokeh !== undefined) {\n",
       "    embed_document(root);\n",
       "  } else {\n",
       "    var attempts = 0;\n",
       "    var timer = setInterval(function(root) {\n",
       "      if (root.Bokeh !== undefined) {\n",
       "        clearInterval(timer);\n",
       "        embed_document(root);\n",
       "      } else {\n",
       "        attempts++;\n",
       "        if (attempts > 100) {\n",
       "          clearInterval(timer);\n",
       "          console.log(\"Bokeh: ERROR: Unable to run BokehJS code because BokehJS library is missing\");\n",
       "        }\n",
       "      }\n",
       "    }, 10, root)\n",
       "  }\n",
       "})(window);"
      ],
      "application/vnd.bokehjs_exec.v0+json": ""
     },
     "metadata": {
      "application/vnd.bokehjs_exec.v0+json": {
       "id": "13808"
      }
     },
     "output_type": "display_data"
    }
   ],
   "source": [
    "def plot_customer_sale_freq(data):\n",
    "    x = range(len(data.customer_id.value_counts()))\n",
    "    y = data.customer_id.value_counts()\n",
    "\n",
    "    TOOLS = \"crosshair,pan,wheel_zoom,box_zoom,reset,box_select,lasso_select\"\n",
    "\n",
    "    # create a new plot with the tools above, and explicit ranges\n",
    "    p = figure(tools=TOOLS, x_range=(-50, max(x)+100), y_range=(-500, max(y)+500), plot_height=400, plot_width=600)\n",
    "\n",
    "    # add a circle renderer with vectorized colors and sizes\n",
    "    p.circle(x, y, radius=7, fill_color='darkslategray', fill_alpha=1.0, line_color=None)\n",
    "\n",
    "    show(p, notebook_handle=True)\n",
    "    \n",
    "plot_customer_sale_freq(data=data_all)"
   ]
  },
  {
   "cell_type": "markdown",
   "metadata": {},
   "source": [
    "## Product purchase freq"
   ]
  },
  {
   "cell_type": "code",
   "execution_count": 112,
   "metadata": {},
   "outputs": [
    {
     "data": {
      "text/html": [
       "\n",
       "\n",
       "\n",
       "\n",
       "\n",
       "\n",
       "  <div class=\"bk-root\" id=\"dabf730b-0a2b-4315-9970-da57af064cdc\" data-root-id=\"13280\"></div>\n"
      ]
     },
     "metadata": {},
     "output_type": "display_data"
    },
    {
     "data": {
      "application/javascript": [
       "(function(root) {\n",
       "  function embed_document(root) {\n",
       "    \n",
       "  var docs_json = {\"d6021282-5805-4dde-b674-cf4c20f2d847\":{\"roots\":{\"references\":[{\"attributes\":{\"below\":[{\"id\":\"13289\"}],\"center\":[{\"id\":\"13292\"},{\"id\":\"13296\"}],\"left\":[{\"id\":\"13293\"}],\"plot_height\":400,\"renderers\":[{\"id\":\"13318\"}],\"title\":{\"id\":\"13731\"},\"toolbar\":{\"id\":\"13307\"},\"x_range\":{\"id\":\"13281\"},\"x_scale\":{\"id\":\"13285\"},\"y_range\":{\"id\":\"13283\"},\"y_scale\":{\"id\":\"13287\"}},\"id\":\"13280\",\"subtype\":\"Figure\",\"type\":\"Plot\"},{\"attributes\":{\"data_source\":{\"id\":\"13315\"},\"glyph\":{\"id\":\"13316\"},\"hover_glyph\":null,\"muted_glyph\":null,\"nonselection_glyph\":{\"id\":\"13317\"},\"selection_glyph\":null,\"view\":{\"id\":\"13319\"}},\"id\":\"13318\",\"type\":\"GlyphRenderer\"},{\"attributes\":{\"formatter\":{\"id\":\"13732\"},\"ticker\":{\"id\":\"13294\"}},\"id\":\"13293\",\"type\":\"LinearAxis\"},{\"attributes\":{\"fill_alpha\":{\"value\":0.1},\"fill_color\":{\"value\":\"darkslategray\"},\"line_alpha\":{\"value\":0.1},\"line_color\":{\"value\":null},\"radius\":{\"units\":\"data\",\"value\":0.3},\"x\":{\"field\":\"x\"},\"y\":{\"field\":\"y\"}},\"id\":\"13317\",\"type\":\"Circle\"},{\"attributes\":{},\"id\":\"13294\",\"type\":\"BasicTicker\"},{\"attributes\":{\"fill_color\":{\"value\":\"darkslategray\"},\"line_color\":{\"value\":null},\"radius\":{\"units\":\"data\",\"value\":0.3},\"x\":{\"field\":\"x\"},\"y\":{\"field\":\"y\"}},\"id\":\"13316\",\"type\":\"Circle\"},{\"attributes\":{\"axis\":{\"id\":\"13293\"},\"dimension\":1,\"ticker\":null},\"id\":\"13296\",\"type\":\"Grid\"},{\"attributes\":{},\"id\":\"13732\",\"type\":\"BasicTickFormatter\"},{\"attributes\":{\"data\":{\"x\":[0,1,2,3,4,5,6,7,8,9,10,11,12,13,14,15,16,17,18,19,20,21,22,23,24,25,26,27,28,29,30,31,32,33,34,35,36,37,38,39,40,41,42,43,44,45,46,47,48,49],\"y\":[201916,87190,85551,82930,70418,57626,52725,46581,42723,42566,41003,36963,29438,17953,16905,14496,8351,5510,4797,4786,4218,3058,2918,2644,1553,1495,1471,1415,1295,1188,1040,771,609,549,517,208,204,99,89,63,58,15,11,7,7,7,6,5,4,3]},\"selected\":{\"id\":\"13739\"},\"selection_policy\":{\"id\":\"13740\"}},\"id\":\"13315\",\"type\":\"ColumnDataSource\"},{\"attributes\":{},\"id\":\"13734\",\"type\":\"BasicTickFormatter\"},{\"attributes\":{},\"id\":\"13297\",\"type\":\"CrosshairTool\"},{\"attributes\":{},\"id\":\"13285\",\"type\":\"LinearScale\"},{\"attributes\":{\"end\":211916,\"start\":-10000},\"id\":\"13283\",\"type\":\"Range1d\"},{\"attributes\":{},\"id\":\"13298\",\"type\":\"PanTool\"},{\"attributes\":{},\"id\":\"13299\",\"type\":\"WheelZoomTool\"},{\"attributes\":{\"overlay\":{\"id\":\"13305\"}},\"id\":\"13300\",\"type\":\"BoxZoomTool\"},{\"attributes\":{\"axis\":{\"id\":\"13289\"},\"ticker\":null},\"id\":\"13292\",\"type\":\"Grid\"},{\"attributes\":{},\"id\":\"13301\",\"type\":\"ResetTool\"},{\"attributes\":{\"overlay\":{\"id\":\"13304\"}},\"id\":\"13302\",\"type\":\"BoxSelectTool\"},{\"attributes\":{},\"id\":\"13290\",\"type\":\"BasicTicker\"},{\"attributes\":{\"overlay\":{\"id\":\"13306\"}},\"id\":\"13303\",\"type\":\"LassoSelectTool\"},{\"attributes\":{\"end\":52,\"start\":-3},\"id\":\"13281\",\"type\":\"Range1d\"},{\"attributes\":{\"active_drag\":\"auto\",\"active_inspect\":\"auto\",\"active_multi\":null,\"active_scroll\":\"auto\",\"active_tap\":\"auto\",\"tools\":[{\"id\":\"13297\"},{\"id\":\"13298\"},{\"id\":\"13299\"},{\"id\":\"13300\"},{\"id\":\"13301\"},{\"id\":\"13302\"},{\"id\":\"13303\"}]},\"id\":\"13307\",\"type\":\"Toolbar\"},{\"attributes\":{\"bottom_units\":\"screen\",\"fill_alpha\":0.5,\"fill_color\":\"lightgrey\",\"left_units\":\"screen\",\"level\":\"overlay\",\"line_alpha\":1.0,\"line_color\":\"black\",\"line_dash\":[4,4],\"line_width\":2,\"render_mode\":\"css\",\"right_units\":\"screen\",\"top_units\":\"screen\"},\"id\":\"13305\",\"type\":\"BoxAnnotation\"},{\"attributes\":{\"bottom_units\":\"screen\",\"fill_alpha\":0.5,\"fill_color\":\"lightgrey\",\"left_units\":\"screen\",\"level\":\"overlay\",\"line_alpha\":1.0,\"line_color\":\"black\",\"line_dash\":[4,4],\"line_width\":2,\"render_mode\":\"css\",\"right_units\":\"screen\",\"top_units\":\"screen\"},\"id\":\"13304\",\"type\":\"BoxAnnotation\"},{\"attributes\":{},\"id\":\"13739\",\"type\":\"Selection\"},{\"attributes\":{\"fill_alpha\":0.5,\"fill_color\":\"lightgrey\",\"level\":\"overlay\",\"line_alpha\":1.0,\"line_color\":\"black\",\"line_dash\":[4,4],\"line_width\":2,\"xs_units\":\"screen\",\"ys_units\":\"screen\"},\"id\":\"13306\",\"type\":\"PolyAnnotation\"},{\"attributes\":{\"formatter\":{\"id\":\"13734\"},\"ticker\":{\"id\":\"13290\"}},\"id\":\"13289\",\"type\":\"LinearAxis\"},{\"attributes\":{\"text\":\"\"},\"id\":\"13731\",\"type\":\"Title\"},{\"attributes\":{\"source\":{\"id\":\"13315\"}},\"id\":\"13319\",\"type\":\"CDSView\"},{\"attributes\":{},\"id\":\"13740\",\"type\":\"UnionRenderers\"},{\"attributes\":{},\"id\":\"13287\",\"type\":\"LinearScale\"}],\"root_ids\":[\"13280\"]},\"title\":\"Bokeh Application\",\"version\":\"2.0.2\"}};\n",
       "  var render_items = [{\"docid\":\"d6021282-5805-4dde-b674-cf4c20f2d847\",\"notebook_comms_target\":\"13741\",\"root_ids\":[\"13280\"],\"roots\":{\"13280\":\"dabf730b-0a2b-4315-9970-da57af064cdc\"}}];\n",
       "  root.Bokeh.embed.embed_items_notebook(docs_json, render_items);\n",
       "\n",
       "  }\n",
       "  if (root.Bokeh !== undefined) {\n",
       "    embed_document(root);\n",
       "  } else {\n",
       "    var attempts = 0;\n",
       "    var timer = setInterval(function(root) {\n",
       "      if (root.Bokeh !== undefined) {\n",
       "        clearInterval(timer);\n",
       "        embed_document(root);\n",
       "      } else {\n",
       "        attempts++;\n",
       "        if (attempts > 100) {\n",
       "          clearInterval(timer);\n",
       "          console.log(\"Bokeh: ERROR: Unable to run BokehJS code because BokehJS library is missing\");\n",
       "        }\n",
       "      }\n",
       "    }, 10, root)\n",
       "  }\n",
       "})(window);"
      ],
      "application/vnd.bokehjs_exec.v0+json": ""
     },
     "metadata": {
      "application/vnd.bokehjs_exec.v0+json": {
       "id": "13280"
      }
     },
     "output_type": "display_data"
    }
   ],
   "source": [
    "def plot_product_sale_freq(data):\n",
    "    x = range(len(data.product_id.value_counts()))\n",
    "    y = data.product_id.value_counts()\n",
    "\n",
    "    TOOLS = \"crosshair,pan,wheel_zoom,box_zoom,reset,box_select,lasso_select\"\n",
    "\n",
    "    # create a new plot with the tools above, and explicit ranges\n",
    "    p = figure(tools=TOOLS, x_range=(-3, max(x)+3), y_range=(-10000, max(y)+10000), plot_height=400, plot_width=600)\n",
    "\n",
    "    # add a circle renderer with vectorized colors and sizes\n",
    "    p.circle(x, y, radius=0.3, fill_color='darkslategray', fill_alpha=1.0, line_color=None)\n",
    "\n",
    "    show(p, notebook_handle=True)\n",
    "    \n",
    "plot_product_sale_freq(data_all)"
   ]
  },
  {
   "cell_type": "markdown",
   "metadata": {},
   "source": [
    "## Purchase freq through time "
   ]
  },
  {
   "cell_type": "code",
   "execution_count": 154,
   "metadata": {},
   "outputs": [
    {
     "data": {
      "text/html": [
       "\n",
       "\n",
       "\n",
       "\n",
       "\n",
       "\n",
       "  <div class=\"bk-root\" id=\"c29b18b9-7c62-4738-ae86-3ab0245fc993\" data-root-id=\"17625\"></div>\n"
      ]
     },
     "metadata": {},
     "output_type": "display_data"
    },
    {
     "data": {
      "application/javascript": [
       "(function(root) {\n",
       "  function embed_document(root) {\n",
       "    \n",
       "  var docs_json = {\"42c56247-f7dc-4e2c-b826-16c0426af55c\":{\"roots\":{\"references\":[{\"attributes\":{\"below\":[{\"id\":\"17636\"}],\"center\":[{\"id\":\"17638\"},{\"id\":\"17642\"}],\"left\":[{\"id\":\"17639\"}],\"plot_height\":400,\"renderers\":[{\"id\":\"17660\"}],\"title\":{\"id\":\"17626\"},\"toolbar\":{\"id\":\"17650\"},\"x_range\":{\"id\":\"17628\"},\"x_scale\":{\"id\":\"17632\"},\"y_range\":{\"id\":\"17630\"},\"y_scale\":{\"id\":\"17634\"}},\"id\":\"17625\",\"subtype\":\"Figure\",\"type\":\"Plot\"},{\"attributes\":{\"formatter\":{\"id\":\"18143\"},\"ticker\":{\"id\":\"17640\"}},\"id\":\"17639\",\"type\":\"LinearAxis\"},{\"attributes\":{\"overlay\":{\"id\":\"17649\"}},\"id\":\"17645\",\"type\":\"BoxZoomTool\"},{\"attributes\":{},\"id\":\"17644\",\"type\":\"WheelZoomTool\"},{\"attributes\":{\"text\":\"2018_5RPSDK28JR_Sales\"},\"id\":\"17626\",\"type\":\"Title\"},{\"attributes\":{\"bottom_units\":\"screen\",\"fill_alpha\":0.5,\"fill_color\":\"lightgrey\",\"left_units\":\"screen\",\"level\":\"overlay\",\"line_alpha\":1.0,\"line_color\":\"black\",\"line_dash\":[4,4],\"line_width\":2,\"render_mode\":\"css\",\"right_units\":\"screen\",\"top_units\":\"screen\"},\"id\":\"17649\",\"type\":\"BoxAnnotation\"},{\"attributes\":{\"axis\":{\"id\":\"17636\"},\"ticker\":null},\"id\":\"17638\",\"type\":\"Grid\"},{\"attributes\":{\"fill_alpha\":{\"value\":0.1},\"fill_color\":{\"value\":\"#1f77b4\"},\"line_alpha\":{\"value\":0.1},\"line_color\":{\"value\":\"#1f77b4\"},\"top\":{\"field\":\"top\"},\"width\":{\"value\":0.9},\"x\":{\"field\":\"x\"}},\"id\":\"17659\",\"type\":\"VBar\"},{\"attributes\":{\"formatter\":{\"id\":\"18145\"},\"ticker\":{\"id\":\"17637\"}},\"id\":\"17636\",\"type\":\"CategoricalAxis\"},{\"attributes\":{\"data_source\":{\"id\":\"17657\"},\"glyph\":{\"id\":\"17658\"},\"hover_glyph\":null,\"muted_glyph\":null,\"nonselection_glyph\":{\"id\":\"17659\"},\"selection_glyph\":null,\"view\":{\"id\":\"17661\"}},\"id\":\"17660\",\"type\":\"GlyphRenderer\"},{\"attributes\":{\"active_drag\":\"auto\",\"active_inspect\":\"auto\",\"active_multi\":null,\"active_scroll\":\"auto\",\"active_tap\":\"auto\",\"tools\":[{\"id\":\"17643\"},{\"id\":\"17644\"},{\"id\":\"17645\"},{\"id\":\"17646\"},{\"id\":\"17647\"},{\"id\":\"17648\"}]},\"id\":\"17650\",\"type\":\"Toolbar\"},{\"attributes\":{},\"id\":\"17646\",\"type\":\"SaveTool\"},{\"attributes\":{},\"id\":\"18149\",\"type\":\"UnionRenderers\"},{\"attributes\":{},\"id\":\"17648\",\"type\":\"HelpTool\"},{\"attributes\":{\"factors\":[\"Jan\",\"Feb\",\"Mar\",\"Apr\",\"May\",\"Jun\",\"Jul\",\"Aug\",\"Sep\",\"Oct\",\"Nov\",\"Dec\"]},\"id\":\"17628\",\"type\":\"FactorRange\"},{\"attributes\":{},\"id\":\"17630\",\"type\":\"DataRange1d\"},{\"attributes\":{},\"id\":\"17647\",\"type\":\"ResetTool\"},{\"attributes\":{},\"id\":\"18143\",\"type\":\"BasicTickFormatter\"},{\"attributes\":{},\"id\":\"18148\",\"type\":\"Selection\"},{\"attributes\":{},\"id\":\"17634\",\"type\":\"LinearScale\"},{\"attributes\":{},\"id\":\"18145\",\"type\":\"CategoricalTickFormatter\"},{\"attributes\":{},\"id\":\"17643\",\"type\":\"PanTool\"},{\"attributes\":{\"source\":{\"id\":\"17657\"}},\"id\":\"17661\",\"type\":\"CDSView\"},{\"attributes\":{\"axis\":{\"id\":\"17639\"},\"dimension\":1,\"ticker\":null},\"id\":\"17642\",\"type\":\"Grid\"},{\"attributes\":{},\"id\":\"17640\",\"type\":\"BasicTicker\"},{\"attributes\":{},\"id\":\"17637\",\"type\":\"CategoricalTicker\"},{\"attributes\":{\"data\":{\"top\":[1887,2862,3126,2417,4991,5985,5325,3177,4389,8499,6050,8344],\"x\":[\"Jan\",\"Feb\",\"Mar\",\"Apr\",\"May\",\"Jun\",\"Jul\",\"Aug\",\"Sep\",\"Oct\",\"Nov\",\"Dec\"]},\"selected\":{\"id\":\"18148\"},\"selection_policy\":{\"id\":\"18149\"}},\"id\":\"17657\",\"type\":\"ColumnDataSource\"},{\"attributes\":{},\"id\":\"17632\",\"type\":\"CategoricalScale\"},{\"attributes\":{\"fill_color\":{\"value\":\"#1f77b4\"},\"line_color\":{\"value\":\"#1f77b4\"},\"top\":{\"field\":\"top\"},\"width\":{\"value\":0.9},\"x\":{\"field\":\"x\"}},\"id\":\"17658\",\"type\":\"VBar\"}],\"root_ids\":[\"17625\"]},\"title\":\"Bokeh Application\",\"version\":\"2.0.2\"}};\n",
       "  var render_items = [{\"docid\":\"42c56247-f7dc-4e2c-b826-16c0426af55c\",\"notebook_comms_target\":\"18150\",\"root_ids\":[\"17625\"],\"roots\":{\"17625\":\"c29b18b9-7c62-4738-ae86-3ab0245fc993\"}}];\n",
       "  root.Bokeh.embed.embed_items_notebook(docs_json, render_items);\n",
       "\n",
       "  }\n",
       "  if (root.Bokeh !== undefined) {\n",
       "    embed_document(root);\n",
       "  } else {\n",
       "    var attempts = 0;\n",
       "    var timer = setInterval(function(root) {\n",
       "      if (root.Bokeh !== undefined) {\n",
       "        clearInterval(timer);\n",
       "        embed_document(root);\n",
       "      } else {\n",
       "        attempts++;\n",
       "        if (attempts > 100) {\n",
       "          clearInterval(timer);\n",
       "          console.log(\"Bokeh: ERROR: Unable to run BokehJS code because BokehJS library is missing\");\n",
       "        }\n",
       "      }\n",
       "    }, 10, root)\n",
       "  }\n",
       "})(window);"
      ],
      "application/vnd.bokehjs_exec.v0+json": ""
     },
     "metadata": {
      "application/vnd.bokehjs_exec.v0+json": {
       "id": "17625"
      }
     },
     "output_type": "display_data"
    }
   ],
   "source": [
    "def plot_product_monthly_sales(year, data, product_id):\n",
    "    data = data.copy(deep=True)\n",
    "    data = slice_data(data, str(year), str(year+1), '01', '01')\n",
    "    transactions = data[data.product_id == product_id].date\n",
    "    month_sales = [0,0,0,0,0,0,0,0,0,0,0,0]\n",
    "    for i in transactions:\n",
    "        month_sales[i.month - 1] += 1\n",
    "    \n",
    "    categories = ['Jan', 'Feb', 'Mar', 'Apr', 'May', 'Jun', 'Jul', 'Aug', 'Sep', 'Oct', 'Nov', 'Dec']\n",
    "\n",
    "    p = figure(title = f'{year}_{product_id}_Sales', x_range=categories, plot_height=400, plot_width=600)\n",
    "    p.vbar(x=categories, top=month_sales, width=0.9)\n",
    "\n",
    "    show(p, notebook_handle=True)\n",
    "    \n",
    "plot_product_monthly_sales(year=2018, data = data_all, product_id = '5RPSDK28JR')"
   ]
  },
  {
   "cell_type": "markdown",
   "metadata": {},
   "source": [
    "## Check seasonality in data"
   ]
  },
  {
   "cell_type": "code",
   "execution_count": 217,
   "metadata": {},
   "outputs": [
    {
     "name": "stdout",
     "output_type": "stream",
     "text": [
      "5RPSDK28JR\n",
      "XZ6UVEYK40\n",
      "G5HEPH9A2T\n",
      "0A4G5LZWCP\n",
      "VD51ZQPY9D\n",
      "XD4I34ED7F\n",
      "O66JVFS978\n",
      "GJROWT9RPV\n",
      "Z4N23EOA13\n",
      "I2IYFZIO6X\n"
     ]
    }
   ],
   "source": [
    "# plot 10 most sold product through time\n",
    "\n",
    "year_month = [(i, j) for i in [2017, 2018, 2019] for j in [1,2,3,4,5,6,7,8,9,10,11,12]] + [(2020,1), (2020,2), (2020,3)]\n",
    "agg_data = []\n",
    "for product in ['5RPSDK28JR','XZ6UVEYK40','G5HEPH9A2T','0A4G5LZWCP','VD51ZQPY9D','XD4I34ED7F','O66JVFS978','GJROWT9RPV','Z4N23EOA13','I2IYFZIO6X']:\n",
    "    year_month_dict = {}\n",
    "    for i in year_month:\n",
    "        year_month_dict[i] = 0\n",
    "\n",
    "    for i in data_all[data_all.product_id == product].date:\n",
    "        year_month_dict[(i.year, i.month)] += 1\n",
    "    agg_data.append(list(year_month_dict.values()))"
   ]
  },
  {
   "cell_type": "code",
   "execution_count": 224,
   "metadata": {},
   "outputs": [
    {
     "data": {
      "text/html": [
       "\n",
       "\n",
       "\n",
       "\n",
       "\n",
       "\n",
       "  <div class=\"bk-root\" id=\"a039a6e4-dfc7-47ce-8717-e3da0b872c52\" data-root-id=\"54071\"></div>\n"
      ]
     },
     "metadata": {},
     "output_type": "display_data"
    },
    {
     "data": {
      "application/javascript": [
       "(function(root) {\n",
       "  function embed_document(root) {\n",
       "    \n",
       "  var docs_json = {\"14faff12-0028-4b20-ac6d-c74e46605a70\":{\"roots\":{\"references\":[{\"attributes\":{\"below\":[{\"id\":\"54080\"}],\"center\":[{\"id\":\"54082\"},{\"id\":\"54086\"},{\"id\":\"54113\"}],\"left\":[{\"id\":\"54083\"}],\"plot_height\":400,\"plot_width\":1200,\"renderers\":[{\"id\":\"54104\"},{\"id\":\"54118\"},{\"id\":\"54133\"},{\"id\":\"54150\"},{\"id\":\"54169\"},{\"id\":\"54190\"},{\"id\":\"54213\"},{\"id\":\"54238\"},{\"id\":\"54265\"},{\"id\":\"54294\"}],\"title\":{\"id\":\"54107\"},\"toolbar\":{\"id\":\"54094\"},\"x_range\":{\"id\":\"54072\"},\"x_scale\":{\"id\":\"54076\"},\"y_range\":{\"id\":\"54074\"},\"y_scale\":{\"id\":\"54078\"}},\"id\":\"54071\",\"subtype\":\"Figure\",\"type\":\"Plot\"},{\"attributes\":{\"source\":{\"id\":\"54187\"}},\"id\":\"54191\",\"type\":\"CDSView\"},{\"attributes\":{\"data_source\":{\"id\":\"54187\"},\"glyph\":{\"id\":\"54188\"},\"hover_glyph\":null,\"muted_glyph\":null,\"nonselection_glyph\":{\"id\":\"54189\"},\"selection_glyph\":null,\"view\":{\"id\":\"54191\"}},\"id\":\"54190\",\"type\":\"GlyphRenderer\"},{\"attributes\":{\"source\":{\"id\":\"54115\"}},\"id\":\"54119\",\"type\":\"CDSView\"},{\"attributes\":{\"line_alpha\":0.1,\"line_color\":\"#d53e4f\",\"x\":{\"field\":\"x\"},\"y\":{\"field\":\"y\"}},\"id\":\"54293\",\"type\":\"Line\"},{\"attributes\":{\"line_color\":\"#d53e4f\",\"x\":{\"field\":\"x\"},\"y\":{\"field\":\"y\"}},\"id\":\"54292\",\"type\":\"Line\"},{\"attributes\":{},\"id\":\"54127\",\"type\":\"Selection\"},{\"attributes\":{\"source\":{\"id\":\"54291\"}},\"id\":\"54295\",\"type\":\"CDSView\"},{\"attributes\":{},\"id\":\"54128\",\"type\":\"UnionRenderers\"},{\"attributes\":{},\"id\":\"54207\",\"type\":\"Selection\"},{\"attributes\":{\"data_source\":{\"id\":\"54291\"},\"glyph\":{\"id\":\"54292\"},\"hover_glyph\":null,\"muted_glyph\":null,\"nonselection_glyph\":{\"id\":\"54293\"},\"selection_glyph\":null,\"view\":{\"id\":\"54295\"}},\"id\":\"54294\",\"type\":\"GlyphRenderer\"},{\"attributes\":{\"label\":{\"value\":\"XZ6UVEYK40\"},\"renderers\":[{\"id\":\"54118\"}]},\"id\":\"54129\",\"type\":\"LegendItem\"},{\"attributes\":{},\"id\":\"54319\",\"type\":\"Selection\"},{\"attributes\":{},\"id\":\"54208\",\"type\":\"UnionRenderers\"},{\"attributes\":{\"data\":{\"x\":[\"17/1\",\"17/2\",\"17/3\",\"17/4\",\"17/5\",\"17/6\",\"17/7\",\"17/8\",\"17/9\",\"17/10\",\"17/11\",\"17/12\",\"18/1\",\"18/2\",\"18/3\",\"18/4\",\"18/5\",\"18/6\",\"18/7\",\"18/8\",\"18/9\",\"18/10\",\"18/11\",\"18/12\",\"19/1\",\"19/2\",\"19/3\",\"19/4\",\"19/5\",\"19/6\",\"19/7\",\"19/8\",\"19/9\",\"19/10\",\"19/11\",\"19/12\",\"20/1\",\"20/2\",\"20/3\"],\"y\":[902,1959,2881,1832,3294,6171,4387,3320,3701,6584,3643,1178,1306,1391,1050,885,1252,2482,3233,1414,2305,3582,2998,2362,1804,1706,1164,1324,1510,1704,2140,1425,1402,2282,1743,1202,921,764,348]},\"selected\":{\"id\":\"54163\"},\"selection_policy\":{\"id\":\"54164\"}},\"id\":\"54130\",\"type\":\"ColumnDataSource\"},{\"attributes\":{\"label\":{\"value\":\"XD4I34ED7F\"},\"renderers\":[{\"id\":\"54190\"}]},\"id\":\"54209\",\"type\":\"LegendItem\"},{\"attributes\":{},\"id\":\"54320\",\"type\":\"UnionRenderers\"},{\"attributes\":{\"label\":{\"value\":\"I2IYFZIO6X\"},\"renderers\":[{\"id\":\"54294\"}]},\"id\":\"54321\",\"type\":\"LegendItem\"},{\"attributes\":{\"data\":{\"x\":[\"17/1\",\"17/2\",\"17/3\",\"17/4\",\"17/5\",\"17/6\",\"17/7\",\"17/8\",\"17/9\",\"17/10\",\"17/11\",\"17/12\",\"18/1\",\"18/2\",\"18/3\",\"18/4\",\"18/5\",\"18/6\",\"18/7\",\"18/8\",\"18/9\",\"18/10\",\"18/11\",\"18/12\",\"19/1\",\"19/2\",\"19/3\",\"19/4\",\"19/5\",\"19/6\",\"19/7\",\"19/8\",\"19/9\",\"19/10\",\"19/11\",\"19/12\",\"20/1\",\"20/2\",\"20/3\"],\"y\":[1218,2684,1284,875,1936,4362,1247,1493,3036,4379,3192,921,493,1266,682,398,1090,1535,857,800,1022,2930,1973,1290,1198,658,1307,1408,927,811,601,545,894,832,709,434,799,385,254]},\"selected\":{\"id\":\"54259\"},\"selection_policy\":{\"id\":\"54260\"}},\"id\":\"54210\",\"type\":\"ColumnDataSource\"},{\"attributes\":{\"factors\":[\"17/1\",\"17/2\",\"17/3\",\"17/4\",\"17/5\",\"17/6\",\"17/7\",\"17/8\",\"17/9\",\"17/10\",\"17/11\",\"17/12\",\"18/1\",\"18/2\",\"18/3\",\"18/4\",\"18/5\",\"18/6\",\"18/7\",\"18/8\",\"18/9\",\"18/10\",\"18/11\",\"18/12\",\"19/1\",\"19/2\",\"19/3\",\"19/4\",\"19/5\",\"19/6\",\"19/7\",\"19/8\",\"19/9\",\"19/10\",\"19/11\",\"19/12\",\"20/1\",\"20/2\",\"20/3\"]},\"id\":\"54072\",\"type\":\"FactorRange\"},{\"attributes\":{\"line_color\":\"#e6f598\",\"x\":{\"field\":\"x\"},\"y\":{\"field\":\"y\"}},\"id\":\"54167\",\"type\":\"Line\"},{\"attributes\":{},\"id\":\"54074\",\"type\":\"DataRange1d\"},{\"attributes\":{},\"id\":\"55268\",\"type\":\"UnionRenderers\"},{\"attributes\":{},\"id\":\"54076\",\"type\":\"CategoricalScale\"},{\"attributes\":{\"line_color\":\"#f46d43\",\"x\":{\"field\":\"x\"},\"y\":{\"field\":\"y\"}},\"id\":\"54263\",\"type\":\"Line\"},{\"attributes\":{\"source\":{\"id\":\"54166\"}},\"id\":\"54170\",\"type\":\"CDSView\"},{\"attributes\":{},\"id\":\"54078\",\"type\":\"LinearScale\"},{\"attributes\":{\"source\":{\"id\":\"54262\"}},\"id\":\"54266\",\"type\":\"CDSView\"},{\"attributes\":{\"formatter\":{\"id\":\"54110\"},\"ticker\":{\"id\":\"54081\"}},\"id\":\"54080\",\"type\":\"CategoricalAxis\"},{\"attributes\":{\"data_source\":{\"id\":\"54262\"},\"glyph\":{\"id\":\"54263\"},\"hover_glyph\":null,\"muted_glyph\":null,\"nonselection_glyph\":{\"id\":\"54264\"},\"selection_glyph\":null,\"view\":{\"id\":\"54266\"}},\"id\":\"54265\",\"type\":\"GlyphRenderer\"},{\"attributes\":{\"data_source\":{\"id\":\"54166\"},\"glyph\":{\"id\":\"54167\"},\"hover_glyph\":null,\"muted_glyph\":null,\"nonselection_glyph\":{\"id\":\"54168\"},\"selection_glyph\":null,\"view\":{\"id\":\"54170\"}},\"id\":\"54169\",\"type\":\"GlyphRenderer\"},{\"attributes\":{},\"id\":\"54081\",\"type\":\"CategoricalTicker\"},{\"attributes\":{\"line_alpha\":0.1,\"line_color\":\"#f46d43\",\"x\":{\"field\":\"x\"},\"y\":{\"field\":\"y\"}},\"id\":\"54264\",\"type\":\"Line\"},{\"attributes\":{\"axis\":{\"id\":\"54080\"},\"ticker\":null},\"id\":\"54082\",\"type\":\"Grid\"},{\"attributes\":{\"line_alpha\":0.1,\"line_color\":\"#e6f598\",\"x\":{\"field\":\"x\"},\"y\":{\"field\":\"y\"}},\"id\":\"54168\",\"type\":\"Line\"},{\"attributes\":{},\"id\":\"54289\",\"type\":\"UnionRenderers\"},{\"attributes\":{\"label\":{\"value\":\"VD51ZQPY9D\"},\"renderers\":[{\"id\":\"54169\"}]},\"id\":\"54186\",\"type\":\"LegendItem\"},{\"attributes\":{},\"id\":\"54288\",\"type\":\"Selection\"},{\"attributes\":{\"label\":{\"value\":\"Z4N23EOA13\"},\"renderers\":[{\"id\":\"54265\"}]},\"id\":\"54290\",\"type\":\"LegendItem\"},{\"attributes\":{},\"id\":\"54259\",\"type\":\"Selection\"},{\"attributes\":{\"formatter\":{\"id\":\"54108\"},\"ticker\":{\"id\":\"54084\"}},\"id\":\"54083\",\"type\":\"LinearAxis\"},{\"attributes\":{\"data\":{\"x\":[\"17/1\",\"17/2\",\"17/3\",\"17/4\",\"17/5\",\"17/6\",\"17/7\",\"17/8\",\"17/9\",\"17/10\",\"17/11\",\"17/12\",\"18/1\",\"18/2\",\"18/3\",\"18/4\",\"18/5\",\"18/6\",\"18/7\",\"18/8\",\"18/9\",\"18/10\",\"18/11\",\"18/12\",\"19/1\",\"19/2\",\"19/3\",\"19/4\",\"19/5\",\"19/6\",\"19/7\",\"19/8\",\"19/9\",\"19/10\",\"19/11\",\"19/12\",\"20/1\",\"20/2\",\"20/3\"],\"y\":[765,1467,1517,1275,1470,2689,2125,2362,2510,2574,3064,779,887,1039,758,789,875,2740,1682,1590,1264,2392,1382,775,1595,705,1371,1567,1523,1459,1743,1922,1134,1007,1502,1370,929,679,350]},\"selected\":{\"id\":\"54232\"},\"selection_policy\":{\"id\":\"54233\"}},\"id\":\"54187\",\"type\":\"ColumnDataSource\"},{\"attributes\":{\"data\":{\"x\":[\"17/1\",\"17/2\",\"17/3\",\"17/4\",\"17/5\",\"17/6\",\"17/7\",\"17/8\",\"17/9\",\"17/10\",\"17/11\",\"17/12\",\"18/1\",\"18/2\",\"18/3\",\"18/4\",\"18/5\",\"18/6\",\"18/7\",\"18/8\",\"18/9\",\"18/10\",\"18/11\",\"18/12\",\"19/1\",\"19/2\",\"19/3\",\"19/4\",\"19/5\",\"19/6\",\"19/7\",\"19/8\",\"19/9\",\"19/10\",\"19/11\",\"19/12\",\"20/1\",\"20/2\",\"20/3\"],\"y\":[303,1081,1434,1086,2651,2530,2388,1853,2137,2317,1866,665,413,348,409,211,701,1104,1204,463,811,1675,1614,2260,1581,1150,797,607,676,1161,970,511,570,622,1122,375,412,285,203]},\"selected\":{\"id\":\"55267\"},\"selection_policy\":{\"id\":\"55268\"}},\"id\":\"54291\",\"type\":\"ColumnDataSource\"},{\"attributes\":{},\"id\":\"54185\",\"type\":\"UnionRenderers\"},{\"attributes\":{},\"id\":\"54084\",\"type\":\"BasicTicker\"},{\"attributes\":{\"axis\":{\"id\":\"54083\"},\"dimension\":1,\"ticker\":null},\"id\":\"54086\",\"type\":\"Grid\"},{\"attributes\":{\"line_color\":\"#fdae61\",\"x\":{\"field\":\"x\"},\"y\":{\"field\":\"y\"}},\"id\":\"54236\",\"type\":\"Line\"},{\"attributes\":{\"data\":{\"x\":[\"17/1\",\"17/2\",\"17/3\",\"17/4\",\"17/5\",\"17/6\",\"17/7\",\"17/8\",\"17/9\",\"17/10\",\"17/11\",\"17/12\",\"18/1\",\"18/2\",\"18/3\",\"18/4\",\"18/5\",\"18/6\",\"18/7\",\"18/8\",\"18/9\",\"18/10\",\"18/11\",\"18/12\",\"19/1\",\"19/2\",\"19/3\",\"19/4\",\"19/5\",\"19/6\",\"19/7\",\"19/8\",\"19/9\",\"19/10\",\"19/11\",\"19/12\",\"20/1\",\"20/2\",\"20/3\"],\"y\":[2305,7486,8267,5238,9169,11576,11302,6863,8896,13185,10027,3036,1887,2862,3126,2417,4991,5985,5325,3177,4389,8499,6050,8344,8143,2358,4816,1891,5396,3401,4045,2196,2677,4208,2739,1512,1806,1684,642]},\"selected\":{\"id\":\"54127\"},\"selection_policy\":{\"id\":\"54128\"}},\"id\":\"54101\",\"type\":\"ColumnDataSource\"},{\"attributes\":{\"source\":{\"id\":\"54235\"}},\"id\":\"54239\",\"type\":\"CDSView\"},{\"attributes\":{},\"id\":\"55267\",\"type\":\"Selection\"},{\"attributes\":{\"data_source\":{\"id\":\"54235\"},\"glyph\":{\"id\":\"54236\"},\"hover_glyph\":null,\"muted_glyph\":null,\"nonselection_glyph\":{\"id\":\"54237\"},\"selection_glyph\":null,\"view\":{\"id\":\"54239\"}},\"id\":\"54238\",\"type\":\"GlyphRenderer\"},{\"attributes\":{},\"id\":\"54087\",\"type\":\"PanTool\"},{\"attributes\":{\"line_alpha\":0.1,\"line_color\":\"#fdae61\",\"x\":{\"field\":\"x\"},\"y\":{\"field\":\"y\"}},\"id\":\"54237\",\"type\":\"Line\"},{\"attributes\":{},\"id\":\"54088\",\"type\":\"WheelZoomTool\"},{\"attributes\":{},\"id\":\"54260\",\"type\":\"UnionRenderers\"},{\"attributes\":{\"overlay\":{\"id\":\"54093\"}},\"id\":\"54089\",\"type\":\"BoxZoomTool\"},{\"attributes\":{\"label\":{\"value\":\"GJROWT9RPV\"},\"renderers\":[{\"id\":\"54238\"}]},\"id\":\"54261\",\"type\":\"LegendItem\"},{\"attributes\":{\"line_alpha\":0.1,\"line_color\":\"#ffffbf\",\"x\":{\"field\":\"x\"},\"y\":{\"field\":\"y\"}},\"id\":\"54189\",\"type\":\"Line\"},{\"attributes\":{},\"id\":\"54090\",\"type\":\"SaveTool\"},{\"attributes\":{\"label\":{\"value\":\"5RPSDK28JR\"},\"renderers\":[{\"id\":\"54104\"}]},\"id\":\"54114\",\"type\":\"LegendItem\"},{\"attributes\":{},\"id\":\"54091\",\"type\":\"ResetTool\"},{\"attributes\":{\"data\":{\"x\":[\"17/1\",\"17/2\",\"17/3\",\"17/4\",\"17/5\",\"17/6\",\"17/7\",\"17/8\",\"17/9\",\"17/10\",\"17/11\",\"17/12\",\"18/1\",\"18/2\",\"18/3\",\"18/4\",\"18/5\",\"18/6\",\"18/7\",\"18/8\",\"18/9\",\"18/10\",\"18/11\",\"18/12\",\"19/1\",\"19/2\",\"19/3\",\"19/4\",\"19/5\",\"19/6\",\"19/7\",\"19/8\",\"19/9\",\"19/10\",\"19/11\",\"19/12\",\"20/1\",\"20/2\",\"20/3\"],\"y\":[471,2084,1489,1002,1522,2327,1913,2115,1903,2399,1691,420,423,641,735,606,1168,1239,836,1044,834,1861,1152,2275,1441,509,731,741,1104,854,948,810,881,806,786,360,194,173,235]},\"selected\":{\"id\":\"54319\"},\"selection_policy\":{\"id\":\"54320\"}},\"id\":\"54262\",\"type\":\"ColumnDataSource\"},{\"attributes\":{},\"id\":\"54144\",\"type\":\"Selection\"},{\"attributes\":{\"line_color\":\"#66c2a5\",\"x\":{\"field\":\"x\"},\"y\":{\"field\":\"y\"}},\"id\":\"54131\",\"type\":\"Line\"},{\"attributes\":{},\"id\":\"54092\",\"type\":\"HelpTool\"},{\"attributes\":{\"source\":{\"id\":\"54130\"}},\"id\":\"54134\",\"type\":\"CDSView\"},{\"attributes\":{},\"id\":\"54232\",\"type\":\"Selection\"},{\"attributes\":{\"items\":[{\"id\":\"54114\"},{\"id\":\"54129\"},{\"id\":\"54146\"},{\"id\":\"54165\"},{\"id\":\"54186\"},{\"id\":\"54209\"},{\"id\":\"54234\"},{\"id\":\"54261\"},{\"id\":\"54290\"},{\"id\":\"54321\"}]},\"id\":\"54113\",\"type\":\"Legend\"},{\"attributes\":{\"line_color\":\"#fee08b\",\"x\":{\"field\":\"x\"},\"y\":{\"field\":\"y\"}},\"id\":\"54211\",\"type\":\"Line\"},{\"attributes\":{\"data_source\":{\"id\":\"54130\"},\"glyph\":{\"id\":\"54131\"},\"hover_glyph\":null,\"muted_glyph\":null,\"nonselection_glyph\":{\"id\":\"54132\"},\"selection_glyph\":null,\"view\":{\"id\":\"54134\"}},\"id\":\"54133\",\"type\":\"GlyphRenderer\"},{\"attributes\":{\"active_drag\":\"auto\",\"active_inspect\":\"auto\",\"active_multi\":null,\"active_scroll\":\"auto\",\"active_tap\":\"auto\",\"tools\":[{\"id\":\"54087\"},{\"id\":\"54088\"},{\"id\":\"54089\"},{\"id\":\"54090\"},{\"id\":\"54091\"},{\"id\":\"54092\"}]},\"id\":\"54094\",\"type\":\"Toolbar\"},{\"attributes\":{\"source\":{\"id\":\"54210\"}},\"id\":\"54214\",\"type\":\"CDSView\"},{\"attributes\":{\"bottom_units\":\"screen\",\"fill_alpha\":0.5,\"fill_color\":\"lightgrey\",\"left_units\":\"screen\",\"level\":\"overlay\",\"line_alpha\":1.0,\"line_color\":\"black\",\"line_dash\":[4,4],\"line_width\":2,\"render_mode\":\"css\",\"right_units\":\"screen\",\"top_units\":\"screen\"},\"id\":\"54093\",\"type\":\"BoxAnnotation\"},{\"attributes\":{\"data_source\":{\"id\":\"54210\"},\"glyph\":{\"id\":\"54211\"},\"hover_glyph\":null,\"muted_glyph\":null,\"nonselection_glyph\":{\"id\":\"54212\"},\"selection_glyph\":null,\"view\":{\"id\":\"54214\"}},\"id\":\"54213\",\"type\":\"GlyphRenderer\"},{\"attributes\":{\"line_alpha\":0.1,\"line_color\":\"#66c2a5\",\"x\":{\"field\":\"x\"},\"y\":{\"field\":\"y\"}},\"id\":\"54132\",\"type\":\"Line\"},{\"attributes\":{\"data\":{\"x\":[\"17/1\",\"17/2\",\"17/3\",\"17/4\",\"17/5\",\"17/6\",\"17/7\",\"17/8\",\"17/9\",\"17/10\",\"17/11\",\"17/12\",\"18/1\",\"18/2\",\"18/3\",\"18/4\",\"18/5\",\"18/6\",\"18/7\",\"18/8\",\"18/9\",\"18/10\",\"18/11\",\"18/12\",\"19/1\",\"19/2\",\"19/3\",\"19/4\",\"19/5\",\"19/6\",\"19/7\",\"19/8\",\"19/9\",\"19/10\",\"19/11\",\"19/12\",\"20/1\",\"20/2\",\"20/3\"],\"y\":[638,1618,2949,1912,2581,5074,3273,2734,3660,4369,4839,1739,1400,1319,955,487,1352,2284,7786,2618,1439,3143,2736,3071,2623,933,1864,1292,1364,2038,2225,1640,1651,1565,1638,1107,1544,1268,462]},\"selected\":{\"id\":\"54144\"},\"selection_policy\":{\"id\":\"54145\"}},\"id\":\"54115\",\"type\":\"ColumnDataSource\"},{\"attributes\":{},\"id\":\"54145\",\"type\":\"UnionRenderers\"},{\"attributes\":{\"line_alpha\":0.1,\"line_color\":\"#fee08b\",\"x\":{\"field\":\"x\"},\"y\":{\"field\":\"y\"}},\"id\":\"54212\",\"type\":\"Line\"},{\"attributes\":{\"label\":{\"value\":\"G5HEPH9A2T\"},\"renderers\":[{\"id\":\"54133\"}]},\"id\":\"54146\",\"type\":\"LegendItem\"},{\"attributes\":{},\"id\":\"54233\",\"type\":\"UnionRenderers\"},{\"attributes\":{\"data\":{\"x\":[\"17/1\",\"17/2\",\"17/3\",\"17/4\",\"17/5\",\"17/6\",\"17/7\",\"17/8\",\"17/9\",\"17/10\",\"17/11\",\"17/12\",\"18/1\",\"18/2\",\"18/3\",\"18/4\",\"18/5\",\"18/6\",\"18/7\",\"18/8\",\"18/9\",\"18/10\",\"18/11\",\"18/12\",\"19/1\",\"19/2\",\"19/3\",\"19/4\",\"19/5\",\"19/6\",\"19/7\",\"19/8\",\"19/9\",\"19/10\",\"19/11\",\"19/12\",\"20/1\",\"20/2\",\"20/3\"],\"y\":[844,4147,4185,2072,4949,4647,3191,2967,4085,5206,6016,2068,985,746,627,559,1489,2075,1963,1096,1969,3942,2808,3156,2646,1559,1306,967,1024,1199,1421,998,936,1410,1332,691,791,536,322]},\"selected\":{\"id\":\"54184\"},\"selection_policy\":{\"id\":\"54185\"}},\"id\":\"54147\",\"type\":\"ColumnDataSource\"},{\"attributes\":{\"label\":{\"value\":\"O66JVFS978\"},\"renderers\":[{\"id\":\"54213\"}]},\"id\":\"54234\",\"type\":\"LegendItem\"},{\"attributes\":{\"data\":{\"x\":[\"17/1\",\"17/2\",\"17/3\",\"17/4\",\"17/5\",\"17/6\",\"17/7\",\"17/8\",\"17/9\",\"17/10\",\"17/11\",\"17/12\",\"18/1\",\"18/2\",\"18/3\",\"18/4\",\"18/5\",\"18/6\",\"18/7\",\"18/8\",\"18/9\",\"18/10\",\"18/11\",\"18/12\",\"19/1\",\"19/2\",\"19/3\",\"19/4\",\"19/5\",\"19/6\",\"19/7\",\"19/8\",\"19/9\",\"19/10\",\"19/11\",\"19/12\",\"20/1\",\"20/2\",\"20/3\"],\"y\":[906,1085,966,327,1447,7287,2378,1029,759,2921,3549,553,621,835,662,494,1033,2255,1382,1196,685,1840,837,1735,1155,511,1127,1321,769,382,707,543,427,868,423,444,467,418,237]},\"selected\":{\"id\":\"54288\"},\"selection_policy\":{\"id\":\"54289\"}},\"id\":\"54235\",\"type\":\"ColumnDataSource\"},{\"attributes\":{\"line_color\":\"#ffffbf\",\"x\":{\"field\":\"x\"},\"y\":{\"field\":\"y\"}},\"id\":\"54188\",\"type\":\"Line\"},{\"attributes\":{\"text\":\"\"},\"id\":\"54107\",\"type\":\"Title\"},{\"attributes\":{\"line_color\":\"#5e4fa2\",\"x\":{\"field\":\"x\"},\"y\":{\"field\":\"y\"}},\"id\":\"54102\",\"type\":\"Line\"},{\"attributes\":{\"source\":{\"id\":\"54101\"}},\"id\":\"54105\",\"type\":\"CDSView\"},{\"attributes\":{\"data_source\":{\"id\":\"54101\"},\"glyph\":{\"id\":\"54102\"},\"hover_glyph\":null,\"muted_glyph\":null,\"nonselection_glyph\":{\"id\":\"54103\"},\"selection_glyph\":null,\"view\":{\"id\":\"54105\"}},\"id\":\"54104\",\"type\":\"GlyphRenderer\"},{\"attributes\":{},\"id\":\"54163\",\"type\":\"Selection\"},{\"attributes\":{\"line_color\":\"#abdda4\",\"x\":{\"field\":\"x\"},\"y\":{\"field\":\"y\"}},\"id\":\"54148\",\"type\":\"Line\"},{\"attributes\":{\"line_alpha\":0.1,\"line_color\":\"#5e4fa2\",\"x\":{\"field\":\"x\"},\"y\":{\"field\":\"y\"}},\"id\":\"54103\",\"type\":\"Line\"},{\"attributes\":{\"source\":{\"id\":\"54147\"}},\"id\":\"54151\",\"type\":\"CDSView\"},{\"attributes\":{},\"id\":\"54108\",\"type\":\"BasicTickFormatter\"},{\"attributes\":{\"data_source\":{\"id\":\"54147\"},\"glyph\":{\"id\":\"54148\"},\"hover_glyph\":null,\"muted_glyph\":null,\"nonselection_glyph\":{\"id\":\"54149\"},\"selection_glyph\":null,\"view\":{\"id\":\"54151\"}},\"id\":\"54150\",\"type\":\"GlyphRenderer\"},{\"attributes\":{},\"id\":\"54110\",\"type\":\"CategoricalTickFormatter\"},{\"attributes\":{\"line_alpha\":0.1,\"line_color\":\"#abdda4\",\"x\":{\"field\":\"x\"},\"y\":{\"field\":\"y\"}},\"id\":\"54149\",\"type\":\"Line\"},{\"attributes\":{},\"id\":\"54164\",\"type\":\"UnionRenderers\"},{\"attributes\":{\"label\":{\"value\":\"0A4G5LZWCP\"},\"renderers\":[{\"id\":\"54150\"}]},\"id\":\"54165\",\"type\":\"LegendItem\"},{\"attributes\":{\"data\":{\"x\":[\"17/1\",\"17/2\",\"17/3\",\"17/4\",\"17/5\",\"17/6\",\"17/7\",\"17/8\",\"17/9\",\"17/10\",\"17/11\",\"17/12\",\"18/1\",\"18/2\",\"18/3\",\"18/4\",\"18/5\",\"18/6\",\"18/7\",\"18/8\",\"18/9\",\"18/10\",\"18/11\",\"18/12\",\"19/1\",\"19/2\",\"19/3\",\"19/4\",\"19/5\",\"19/6\",\"19/7\",\"19/8\",\"19/9\",\"19/10\",\"19/11\",\"19/12\",\"20/1\",\"20/2\",\"20/3\"],\"y\":[964,1508,3095,1657,2899,3612,3084,3537,3793,3785,3379,870,1173,937,855,832,1319,3490,2145,1292,1139,2171,1502,1266,1678,1042,1576,1476,1336,1379,2313,2124,1251,1433,1583,954,779,799,391]},\"selected\":{\"id\":\"54207\"},\"selection_policy\":{\"id\":\"54208\"}},\"id\":\"54166\",\"type\":\"ColumnDataSource\"},{\"attributes\":{},\"id\":\"54184\",\"type\":\"Selection\"},{\"attributes\":{\"line_alpha\":0.1,\"line_color\":\"#3288bd\",\"x\":{\"field\":\"x\"},\"y\":{\"field\":\"y\"}},\"id\":\"54117\",\"type\":\"Line\"},{\"attributes\":{\"line_color\":\"#3288bd\",\"x\":{\"field\":\"x\"},\"y\":{\"field\":\"y\"}},\"id\":\"54116\",\"type\":\"Line\"},{\"attributes\":{\"data_source\":{\"id\":\"54115\"},\"glyph\":{\"id\":\"54116\"},\"hover_glyph\":null,\"muted_glyph\":null,\"nonselection_glyph\":{\"id\":\"54117\"},\"selection_glyph\":null,\"view\":{\"id\":\"54119\"}},\"id\":\"54118\",\"type\":\"GlyphRenderer\"}],\"root_ids\":[\"54071\"]},\"title\":\"Bokeh Application\",\"version\":\"2.0.2\"}};\n",
       "  var render_items = [{\"docid\":\"14faff12-0028-4b20-ac6d-c74e46605a70\",\"notebook_comms_target\":\"55269\",\"root_ids\":[\"54071\"],\"roots\":{\"54071\":\"a039a6e4-dfc7-47ce-8717-e3da0b872c52\"}}];\n",
       "  root.Bokeh.embed.embed_items_notebook(docs_json, render_items);\n",
       "\n",
       "  }\n",
       "  if (root.Bokeh !== undefined) {\n",
       "    embed_document(root);\n",
       "  } else {\n",
       "    var attempts = 0;\n",
       "    var timer = setInterval(function(root) {\n",
       "      if (root.Bokeh !== undefined) {\n",
       "        clearInterval(timer);\n",
       "        embed_document(root);\n",
       "      } else {\n",
       "        attempts++;\n",
       "        if (attempts > 100) {\n",
       "          clearInterval(timer);\n",
       "          console.log(\"Bokeh: ERROR: Unable to run BokehJS code because BokehJS library is missing\");\n",
       "        }\n",
       "      }\n",
       "    }, 10, root)\n",
       "  }\n",
       "})(window);"
      ],
      "application/vnd.bokehjs_exec.v0+json": ""
     },
     "metadata": {
      "application/vnd.bokehjs_exec.v0+json": {
       "id": "54071"
      }
     },
     "output_type": "display_data"
    },
    {
     "data": {
      "text/html": [
       "<p><code>&lt;Bokeh Notebook handle for <strong>In[224]</strong>&gt;</code></p>"
      ],
      "text/plain": [
       "<bokeh.io.notebook.CommsHandle at 0x233af990400>"
      ]
     },
     "execution_count": 224,
     "metadata": {},
     "output_type": "execute_result"
    }
   ],
   "source": [
    "from bokeh.palettes import Spectral11\n",
    "\n",
    "p = figure(plot_width=1200, plot_height=400, x_range = [str(i[0])[2:]+'/'+str(i[1]) for i in year_month_dict.keys()])\n",
    "\n",
    "itration = 0\n",
    "for name, color in zip(['5RPSDK28JR','XZ6UVEYK40','G5HEPH9A2T','0A4G5LZWCP','VD51ZQPY9D','XD4I34ED7F','O66JVFS978','GJROWT9RPV','Z4N23EOA13','I2IYFZIO6X'] ,Spectral11):\n",
    "    p.line([str(i[0])[2:]+'/'+str(i[1]) for i in year_month_dict.keys()], agg_data[itration], color=color, legend=name)\n",
    "    itration += 1\n",
    "    \n",
    "p.legend.location = \"top_right\"\n",
    "show(p, notebook_handle=True)"
   ]
  },
  {
   "cell_type": "code",
   "execution_count": 152,
   "metadata": {},
   "outputs": [
    {
     "data": {
      "text/plain": [
       "Timestamp('2016-07-05 00:00:00+0000', tz='UTC')"
      ]
     },
     "execution_count": 152,
     "metadata": {},
     "output_type": "execute_result"
    }
   ],
   "source": [
    "#pd.Timestamp('2017-01-01T00:00:00Z') + pd.Timedelta(days=-180)"
   ]
  },
  {
   "cell_type": "markdown",
   "metadata": {},
   "source": [
    "## Plot per customer"
   ]
  },
  {
   "cell_type": "code",
   "execution_count": 229,
   "metadata": {},
   "outputs": [
    {
     "data": {
      "text/plain": [
       "Int64Index([6689489, 5381109, 1756454, 4435859, 8350659, 2819316, 3463352,\n",
       "            5987313, 7463224, 1634809],\n",
       "           dtype='int64')"
      ]
     },
     "execution_count": 229,
     "metadata": {},
     "output_type": "execute_result"
    }
   ],
   "source": [
    "data_all.customer_id.value_counts()[:10].index"
   ]
  },
  {
   "cell_type": "code",
   "execution_count": 230,
   "metadata": {},
   "outputs": [
    {
     "data": {
      "text/html": [
       "<div>\n",
       "<style scoped>\n",
       "    .dataframe tbody tr th:only-of-type {\n",
       "        vertical-align: middle;\n",
       "    }\n",
       "\n",
       "    .dataframe tbody tr th {\n",
       "        vertical-align: top;\n",
       "    }\n",
       "\n",
       "    .dataframe thead th {\n",
       "        text-align: right;\n",
       "    }\n",
       "</style>\n",
       "<table border=\"1\" class=\"dataframe\">\n",
       "  <thead>\n",
       "    <tr style=\"text-align: right;\">\n",
       "      <th></th>\n",
       "      <th>customer_id</th>\n",
       "      <th>product_id</th>\n",
       "      <th>date</th>\n",
       "    </tr>\n",
       "  </thead>\n",
       "  <tbody>\n",
       "    <tr>\n",
       "      <th>0</th>\n",
       "      <td>6689489</td>\n",
       "      <td>0A4G5LZWCP</td>\n",
       "      <td>2017-01-31 09:31:08.873000+00:00</td>\n",
       "    </tr>\n",
       "    <tr>\n",
       "      <th>1</th>\n",
       "      <td>6689489</td>\n",
       "      <td>XZ6UVEYK40</td>\n",
       "      <td>2017-02-03 16:59:16.610000+00:00</td>\n",
       "    </tr>\n",
       "    <tr>\n",
       "      <th>2</th>\n",
       "      <td>6689489</td>\n",
       "      <td>XZ6UVEYK40</td>\n",
       "      <td>2017-02-05 19:47:55.353000+00:00</td>\n",
       "    </tr>\n",
       "    <tr>\n",
       "      <th>3</th>\n",
       "      <td>6689489</td>\n",
       "      <td>XZ6UVEYK40</td>\n",
       "      <td>2017-02-05 19:48:14.633000+00:00</td>\n",
       "    </tr>\n",
       "    <tr>\n",
       "      <th>4</th>\n",
       "      <td>6689489</td>\n",
       "      <td>XZ6UVEYK40</td>\n",
       "      <td>2017-02-06 09:59:49.053000+00:00</td>\n",
       "    </tr>\n",
       "    <tr>\n",
       "      <th>...</th>\n",
       "      <td>...</td>\n",
       "      <td>...</td>\n",
       "      <td>...</td>\n",
       "    </tr>\n",
       "    <tr>\n",
       "      <th>34958</th>\n",
       "      <td>6689489</td>\n",
       "      <td>G5HEPH9A2T</td>\n",
       "      <td>2020-02-07 11:35:26.967000+00:00</td>\n",
       "    </tr>\n",
       "    <tr>\n",
       "      <th>34959</th>\n",
       "      <td>6689489</td>\n",
       "      <td>G5HEPH9A2T</td>\n",
       "      <td>2020-02-07 11:35:28.037000+00:00</td>\n",
       "    </tr>\n",
       "    <tr>\n",
       "      <th>34960</th>\n",
       "      <td>6689489</td>\n",
       "      <td>G5HEPH9A2T</td>\n",
       "      <td>2020-02-07 11:35:29.663000+00:00</td>\n",
       "    </tr>\n",
       "    <tr>\n",
       "      <th>34961</th>\n",
       "      <td>6689489</td>\n",
       "      <td>G5HEPH9A2T</td>\n",
       "      <td>2020-02-07 11:35:30.887000+00:00</td>\n",
       "    </tr>\n",
       "    <tr>\n",
       "      <th>34962</th>\n",
       "      <td>6689489</td>\n",
       "      <td>G5HEPH9A2T</td>\n",
       "      <td>2020-02-07 13:55:08.863000+00:00</td>\n",
       "    </tr>\n",
       "  </tbody>\n",
       "</table>\n",
       "<p>34963 rows × 3 columns</p>\n",
       "</div>"
      ],
      "text/plain": [
       "       customer_id  product_id                             date\n",
       "0          6689489  0A4G5LZWCP 2017-01-31 09:31:08.873000+00:00\n",
       "1          6689489  XZ6UVEYK40 2017-02-03 16:59:16.610000+00:00\n",
       "2          6689489  XZ6UVEYK40 2017-02-05 19:47:55.353000+00:00\n",
       "3          6689489  XZ6UVEYK40 2017-02-05 19:48:14.633000+00:00\n",
       "4          6689489  XZ6UVEYK40 2017-02-06 09:59:49.053000+00:00\n",
       "...            ...         ...                              ...\n",
       "34958      6689489  G5HEPH9A2T 2020-02-07 11:35:26.967000+00:00\n",
       "34959      6689489  G5HEPH9A2T 2020-02-07 11:35:28.037000+00:00\n",
       "34960      6689489  G5HEPH9A2T 2020-02-07 11:35:29.663000+00:00\n",
       "34961      6689489  G5HEPH9A2T 2020-02-07 11:35:30.887000+00:00\n",
       "34962      6689489  G5HEPH9A2T 2020-02-07 13:55:08.863000+00:00\n",
       "\n",
       "[34963 rows x 3 columns]"
      ]
     },
     "execution_count": 230,
     "metadata": {},
     "output_type": "execute_result"
    }
   ],
   "source": [
    "data_all[data_all.customer_id == 6689489]"
   ]
  },
  {
   "cell_type": "code",
   "execution_count": 231,
   "metadata": {},
   "outputs": [],
   "source": [
    "# plot 10 most sold product through time\n",
    "\n",
    "year_month = [(i, j) for i in [2017, 2018, 2019] for j in [1,2,3,4,5,6,7,8,9,10,11,12]] + [(2020,1), (2020,2), (2020,3)]\n",
    "agg_data = []\n",
    "for customer in [6689489, 5381109, 1756454, 4435859, 8350659, 2819316, 3463352, 5987313, 7463224, 1634809]:\n",
    "    year_month_dict = {}\n",
    "    for i in year_month:\n",
    "        year_month_dict[i] = 0\n",
    "\n",
    "    for i in data_all[data_all.customer_id == customer].date:\n",
    "        year_month_dict[(i.year, i.month)] += 1\n",
    "    agg_data.append(list(year_month_dict.values()))"
   ]
  },
  {
   "cell_type": "code",
   "execution_count": 233,
   "metadata": {},
   "outputs": [
    {
     "data": {
      "text/html": [
       "\n",
       "\n",
       "\n",
       "\n",
       "\n",
       "\n",
       "  <div class=\"bk-root\" id=\"4bc05016-8c99-43b5-b07f-52274da4ce68\" data-root-id=\"55475\"></div>\n"
      ]
     },
     "metadata": {},
     "output_type": "display_data"
    },
    {
     "data": {
      "application/javascript": [
       "(function(root) {\n",
       "  function embed_document(root) {\n",
       "    \n",
       "  var docs_json = {\"b981ae20-9951-4c4d-b95a-709272f0b499\":{\"roots\":{\"references\":[{\"attributes\":{\"below\":[{\"id\":\"55484\"}],\"center\":[{\"id\":\"55486\"},{\"id\":\"55490\"},{\"id\":\"55517\"}],\"left\":[{\"id\":\"55487\"}],\"plot_height\":400,\"plot_width\":1200,\"renderers\":[{\"id\":\"55508\"},{\"id\":\"55522\"},{\"id\":\"55537\"},{\"id\":\"55554\"},{\"id\":\"55573\"},{\"id\":\"55594\"},{\"id\":\"55617\"},{\"id\":\"55642\"},{\"id\":\"55669\"},{\"id\":\"55698\"}],\"title\":{\"id\":\"55511\"},\"toolbar\":{\"id\":\"55498\"},\"x_range\":{\"id\":\"55476\"},\"x_scale\":{\"id\":\"55480\"},\"y_range\":{\"id\":\"55478\"},\"y_scale\":{\"id\":\"55482\"}},\"id\":\"55475\",\"subtype\":\"Figure\",\"type\":\"Plot\"},{\"attributes\":{\"line_alpha\":0.1,\"line_color\":\"#ffffbf\",\"x\":{\"field\":\"x\"},\"y\":{\"field\":\"y\"}},\"id\":\"55593\",\"type\":\"Line\"},{\"attributes\":{\"data\":{\"x\":[\"17/1\",\"17/2\",\"17/3\",\"17/4\",\"17/5\",\"17/6\",\"17/7\",\"17/8\",\"17/9\",\"17/10\",\"17/11\",\"17/12\",\"18/1\",\"18/2\",\"18/3\",\"18/4\",\"18/5\",\"18/6\",\"18/7\",\"18/8\",\"18/9\",\"18/10\",\"18/11\",\"18/12\",\"19/1\",\"19/2\",\"19/3\",\"19/4\",\"19/5\",\"19/6\",\"19/7\",\"19/8\",\"19/9\",\"19/10\",\"19/11\",\"19/12\",\"20/1\",\"20/2\",\"20/3\"],\"y\":[67,155,123,135,583,1011,751,412,765,892,743,166,81,220,107,67,233,679,643,153,150,266,139,338,149,147,120,134,173,94,124,34,79,134,183,114,46,56,24]},\"selected\":{\"id\":\"55611\"},\"selection_policy\":{\"id\":\"55612\"}},\"id\":\"55570\",\"type\":\"ColumnDataSource\"},{\"attributes\":{\"data\":{\"x\":[\"17/1\",\"17/2\",\"17/3\",\"17/4\",\"17/5\",\"17/6\",\"17/7\",\"17/8\",\"17/9\",\"17/10\",\"17/11\",\"17/12\",\"18/1\",\"18/2\",\"18/3\",\"18/4\",\"18/5\",\"18/6\",\"18/7\",\"18/8\",\"18/9\",\"18/10\",\"18/11\",\"18/12\",\"19/1\",\"19/2\",\"19/3\",\"19/4\",\"19/5\",\"19/6\",\"19/7\",\"19/8\",\"19/9\",\"19/10\",\"19/11\",\"19/12\",\"20/1\",\"20/2\",\"20/3\"],\"y\":[84,1416,676,636,1379,1236,926,666,465,830,460,128,87,40,56,41,79,142,177,11,41,284,175,246,84,0,63,0,2,0,0,0,0,0,1,36,5,0,0]},\"selected\":{\"id\":\"55636\"},\"selection_policy\":{\"id\":\"55637\"}},\"id\":\"55591\",\"type\":\"ColumnDataSource\"},{\"attributes\":{\"label\":{\"value\":\"5987313\"},\"renderers\":[{\"id\":\"55642\"}]},\"id\":\"55665\",\"type\":\"LegendItem\"},{\"attributes\":{},\"id\":\"55636\",\"type\":\"Selection\"},{\"attributes\":{\"line_color\":\"#ffffbf\",\"x\":{\"field\":\"x\"},\"y\":{\"field\":\"y\"}},\"id\":\"55592\",\"type\":\"Line\"},{\"attributes\":{\"label\":{\"value\":\"8350659\"},\"renderers\":[{\"id\":\"55573\"}]},\"id\":\"55590\",\"type\":\"LegendItem\"},{\"attributes\":{\"line_alpha\":0.1,\"line_color\":\"#fdae61\",\"x\":{\"field\":\"x\"},\"y\":{\"field\":\"y\"}},\"id\":\"55641\",\"type\":\"Line\"},{\"attributes\":{\"data_source\":{\"id\":\"55639\"},\"glyph\":{\"id\":\"55640\"},\"hover_glyph\":null,\"muted_glyph\":null,\"nonselection_glyph\":{\"id\":\"55641\"},\"selection_glyph\":null,\"view\":{\"id\":\"55643\"}},\"id\":\"55642\",\"type\":\"GlyphRenderer\"},{\"attributes\":{},\"id\":\"55589\",\"type\":\"UnionRenderers\"},{\"attributes\":{},\"id\":\"55664\",\"type\":\"UnionRenderers\"},{\"attributes\":{\"line_alpha\":0.1,\"line_color\":\"#e6f598\",\"x\":{\"field\":\"x\"},\"y\":{\"field\":\"y\"}},\"id\":\"55572\",\"type\":\"Line\"},{\"attributes\":{},\"id\":\"55637\",\"type\":\"UnionRenderers\"},{\"attributes\":{\"data_source\":{\"id\":\"55570\"},\"glyph\":{\"id\":\"55571\"},\"hover_glyph\":null,\"muted_glyph\":null,\"nonselection_glyph\":{\"id\":\"55572\"},\"selection_glyph\":null,\"view\":{\"id\":\"55574\"}},\"id\":\"55573\",\"type\":\"GlyphRenderer\"},{\"attributes\":{\"data\":{\"x\":[\"17/1\",\"17/2\",\"17/3\",\"17/4\",\"17/5\",\"17/6\",\"17/7\",\"17/8\",\"17/9\",\"17/10\",\"17/11\",\"17/12\",\"18/1\",\"18/2\",\"18/3\",\"18/4\",\"18/5\",\"18/6\",\"18/7\",\"18/8\",\"18/9\",\"18/10\",\"18/11\",\"18/12\",\"19/1\",\"19/2\",\"19/3\",\"19/4\",\"19/5\",\"19/6\",\"19/7\",\"19/8\",\"19/9\",\"19/10\",\"19/11\",\"19/12\",\"20/1\",\"20/2\",\"20/3\"],\"y\":[1,5,58,8,114,89,222,173,210,330,538,110,110,89,13,19,49,143,30,105,108,239,32,239,130,90,941,400,443,468,1112,211,248,437,539,223,498,373,268]},\"selected\":{\"id\":\"55692\"},\"selection_policy\":{\"id\":\"55693\"}},\"id\":\"55639\",\"type\":\"ColumnDataSource\"},{\"attributes\":{\"label\":{\"value\":\"3463352\"},\"renderers\":[{\"id\":\"55617\"}]},\"id\":\"55638\",\"type\":\"LegendItem\"},{\"attributes\":{\"line_color\":\"#fdae61\",\"x\":{\"field\":\"x\"},\"y\":{\"field\":\"y\"}},\"id\":\"55640\",\"type\":\"Line\"},{\"attributes\":{},\"id\":\"55663\",\"type\":\"Selection\"},{\"attributes\":{\"source\":{\"id\":\"55639\"}},\"id\":\"55643\",\"type\":\"CDSView\"},{\"attributes\":{},\"id\":\"55567\",\"type\":\"Selection\"},{\"attributes\":{\"data_source\":{\"id\":\"55534\"},\"glyph\":{\"id\":\"55535\"},\"hover_glyph\":null,\"muted_glyph\":null,\"nonselection_glyph\":{\"id\":\"55536\"},\"selection_glyph\":null,\"view\":{\"id\":\"55538\"}},\"id\":\"55537\",\"type\":\"GlyphRenderer\"},{\"attributes\":{\"line_color\":\"#3288bd\",\"x\":{\"field\":\"x\"},\"y\":{\"field\":\"y\"}},\"id\":\"55520\",\"type\":\"Line\"},{\"attributes\":{\"line_alpha\":0.1,\"line_color\":\"#3288bd\",\"x\":{\"field\":\"x\"},\"y\":{\"field\":\"y\"}},\"id\":\"55521\",\"type\":\"Line\"},{\"attributes\":{\"line_color\":\"#e6f598\",\"x\":{\"field\":\"x\"},\"y\":{\"field\":\"y\"}},\"id\":\"55571\",\"type\":\"Line\"},{\"attributes\":{\"source\":{\"id\":\"55570\"}},\"id\":\"55574\",\"type\":\"CDSView\"},{\"attributes\":{\"label\":{\"value\":\"1756454\"},\"renderers\":[{\"id\":\"55537\"}]},\"id\":\"55550\",\"type\":\"LegendItem\"},{\"attributes\":{},\"id\":\"55532\",\"type\":\"UnionRenderers\"},{\"attributes\":{},\"id\":\"55549\",\"type\":\"UnionRenderers\"},{\"attributes\":{\"data\":{\"x\":[\"17/1\",\"17/2\",\"17/3\",\"17/4\",\"17/5\",\"17/6\",\"17/7\",\"17/8\",\"17/9\",\"17/10\",\"17/11\",\"17/12\",\"18/1\",\"18/2\",\"18/3\",\"18/4\",\"18/5\",\"18/6\",\"18/7\",\"18/8\",\"18/9\",\"18/10\",\"18/11\",\"18/12\",\"19/1\",\"19/2\",\"19/3\",\"19/4\",\"19/5\",\"19/6\",\"19/7\",\"19/8\",\"19/9\",\"19/10\",\"19/11\",\"19/12\",\"20/1\",\"20/2\",\"20/3\"],\"y\":[1014,1209,1163,1045,899,1621,988,657,134,677,615,488,569,590,716,874,970,1052,1116,1123,981,785,656,459,703,811,799,858,1201,769,1226,1274,616,1018,1325,932,589,675,158]},\"selected\":{\"id\":\"55548\"},\"selection_policy\":{\"id\":\"55549\"}},\"id\":\"55519\",\"type\":\"ColumnDataSource\"},{\"attributes\":{},\"id\":\"55531\",\"type\":\"Selection\"},{\"attributes\":{\"label\":{\"value\":\"5381109\"},\"renderers\":[{\"id\":\"55522\"}]},\"id\":\"55533\",\"type\":\"LegendItem\"},{\"attributes\":{\"source\":{\"id\":\"55534\"}},\"id\":\"55538\",\"type\":\"CDSView\"},{\"attributes\":{\"source\":{\"id\":\"55519\"}},\"id\":\"55523\",\"type\":\"CDSView\"},{\"attributes\":{\"data_source\":{\"id\":\"55519\"},\"glyph\":{\"id\":\"55520\"},\"hover_glyph\":null,\"muted_glyph\":null,\"nonselection_glyph\":{\"id\":\"55521\"},\"selection_glyph\":null,\"view\":{\"id\":\"55523\"}},\"id\":\"55522\",\"type\":\"GlyphRenderer\"},{\"attributes\":{},\"id\":\"55548\",\"type\":\"Selection\"},{\"attributes\":{\"line_alpha\":0.1,\"line_color\":\"#fee08b\",\"x\":{\"field\":\"x\"},\"y\":{\"field\":\"y\"}},\"id\":\"55616\",\"type\":\"Line\"},{\"attributes\":{\"line_alpha\":0.1,\"line_color\":\"#f46d43\",\"x\":{\"field\":\"x\"},\"y\":{\"field\":\"y\"}},\"id\":\"55668\",\"type\":\"Line\"},{\"attributes\":{\"data_source\":{\"id\":\"55614\"},\"glyph\":{\"id\":\"55615\"},\"hover_glyph\":null,\"muted_glyph\":null,\"nonselection_glyph\":{\"id\":\"55616\"},\"selection_glyph\":null,\"view\":{\"id\":\"55618\"}},\"id\":\"55617\",\"type\":\"GlyphRenderer\"},{\"attributes\":{},\"id\":\"55492\",\"type\":\"WheelZoomTool\"},{\"attributes\":{},\"id\":\"55693\",\"type\":\"UnionRenderers\"},{\"attributes\":{\"source\":{\"id\":\"55614\"}},\"id\":\"55618\",\"type\":\"CDSView\"},{\"attributes\":{\"bottom_units\":\"screen\",\"fill_alpha\":0.5,\"fill_color\":\"lightgrey\",\"left_units\":\"screen\",\"level\":\"overlay\",\"line_alpha\":1.0,\"line_color\":\"black\",\"line_dash\":[4,4],\"line_width\":2,\"render_mode\":\"css\",\"right_units\":\"screen\",\"top_units\":\"screen\"},\"id\":\"55497\",\"type\":\"BoxAnnotation\"},{\"attributes\":{\"items\":[{\"id\":\"55518\"},{\"id\":\"55533\"},{\"id\":\"55550\"},{\"id\":\"55569\"},{\"id\":\"55590\"},{\"id\":\"55613\"},{\"id\":\"55638\"},{\"id\":\"55665\"},{\"id\":\"55694\"},{\"id\":\"55725\"}]},\"id\":\"55517\",\"type\":\"Legend\"},{\"attributes\":{\"label\":{\"value\":\"7463224\"},\"renderers\":[{\"id\":\"55669\"}]},\"id\":\"55694\",\"type\":\"LegendItem\"},{\"attributes\":{\"line_alpha\":0.1,\"line_color\":\"#abdda4\",\"x\":{\"field\":\"x\"},\"y\":{\"field\":\"y\"}},\"id\":\"55553\",\"type\":\"Line\"},{\"attributes\":{\"line_color\":\"#fee08b\",\"x\":{\"field\":\"x\"},\"y\":{\"field\":\"y\"}},\"id\":\"55615\",\"type\":\"Line\"},{\"attributes\":{\"overlay\":{\"id\":\"55497\"}},\"id\":\"55493\",\"type\":\"BoxZoomTool\"},{\"attributes\":{\"data_source\":{\"id\":\"55591\"},\"glyph\":{\"id\":\"55592\"},\"hover_glyph\":null,\"muted_glyph\":null,\"nonselection_glyph\":{\"id\":\"55593\"},\"selection_glyph\":null,\"view\":{\"id\":\"55595\"}},\"id\":\"55594\",\"type\":\"GlyphRenderer\"},{\"attributes\":{},\"id\":\"55588\",\"type\":\"Selection\"},{\"attributes\":{},\"id\":\"56699\",\"type\":\"UnionRenderers\"},{\"attributes\":{},\"id\":\"55482\",\"type\":\"LinearScale\"},{\"attributes\":{},\"id\":\"55611\",\"type\":\"Selection\"},{\"attributes\":{\"data_source\":{\"id\":\"55551\"},\"glyph\":{\"id\":\"55552\"},\"hover_glyph\":null,\"muted_glyph\":null,\"nonselection_glyph\":{\"id\":\"55553\"},\"selection_glyph\":null,\"view\":{\"id\":\"55555\"}},\"id\":\"55554\",\"type\":\"GlyphRenderer\"},{\"attributes\":{\"source\":{\"id\":\"55551\"}},\"id\":\"55555\",\"type\":\"CDSView\"},{\"attributes\":{\"data\":{\"x\":[\"17/1\",\"17/2\",\"17/3\",\"17/4\",\"17/5\",\"17/6\",\"17/7\",\"17/8\",\"17/9\",\"17/10\",\"17/11\",\"17/12\",\"18/1\",\"18/2\",\"18/3\",\"18/4\",\"18/5\",\"18/6\",\"18/7\",\"18/8\",\"18/9\",\"18/10\",\"18/11\",\"18/12\",\"19/1\",\"19/2\",\"19/3\",\"19/4\",\"19/5\",\"19/6\",\"19/7\",\"19/8\",\"19/9\",\"19/10\",\"19/11\",\"19/12\",\"20/1\",\"20/2\",\"20/3\"],\"y\":[44,256,277,141,310,487,519,355,239,783,995,283,82,198,51,61,173,321,612,235,253,439,516,818,531,132,299,76,214,89,100,131,52,47,82,26,57,41,5]},\"selected\":{\"id\":\"55663\"},\"selection_policy\":{\"id\":\"55664\"}},\"id\":\"55614\",\"type\":\"ColumnDataSource\"},{\"attributes\":{\"label\":{\"value\":\"4435859\"},\"renderers\":[{\"id\":\"55554\"}]},\"id\":\"55569\",\"type\":\"LegendItem\"},{\"attributes\":{\"data\":{\"x\":[\"17/1\",\"17/2\",\"17/3\",\"17/4\",\"17/5\",\"17/6\",\"17/7\",\"17/8\",\"17/9\",\"17/10\",\"17/11\",\"17/12\",\"18/1\",\"18/2\",\"18/3\",\"18/4\",\"18/5\",\"18/6\",\"18/7\",\"18/8\",\"18/9\",\"18/10\",\"18/11\",\"18/12\",\"19/1\",\"19/2\",\"19/3\",\"19/4\",\"19/5\",\"19/6\",\"19/7\",\"19/8\",\"19/9\",\"19/10\",\"19/11\",\"19/12\",\"20/1\",\"20/2\",\"20/3\"],\"y\":[917,1071,1789,1386,910,1979,1306,1465,480,1011,762,513,1018,1005,948,563,685,1172,1379,1637,846,1088,658,882,974,628,907,1021,898,884,1250,827,219,263,300,511,364,391,56]},\"selected\":{\"id\":\"55531\"},\"selection_policy\":{\"id\":\"55532\"}},\"id\":\"55505\",\"type\":\"ColumnDataSource\"},{\"attributes\":{\"source\":{\"id\":\"55591\"}},\"id\":\"55595\",\"type\":\"CDSView\"},{\"attributes\":{\"data_source\":{\"id\":\"55695\"},\"glyph\":{\"id\":\"55696\"},\"hover_glyph\":null,\"muted_glyph\":null,\"nonselection_glyph\":{\"id\":\"55697\"},\"selection_glyph\":null,\"view\":{\"id\":\"55699\"}},\"id\":\"55698\",\"type\":\"GlyphRenderer\"},{\"attributes\":{},\"id\":\"55692\",\"type\":\"Selection\"},{\"attributes\":{},\"id\":\"56698\",\"type\":\"Selection\"},{\"attributes\":{\"axis\":{\"id\":\"55484\"},\"ticker\":null},\"id\":\"55486\",\"type\":\"Grid\"},{\"attributes\":{\"formatter\":{\"id\":\"55514\"},\"ticker\":{\"id\":\"55485\"}},\"id\":\"55484\",\"type\":\"CategoricalAxis\"},{\"attributes\":{\"source\":{\"id\":\"55666\"}},\"id\":\"55670\",\"type\":\"CDSView\"},{\"attributes\":{},\"id\":\"55480\",\"type\":\"CategoricalScale\"},{\"attributes\":{\"line_alpha\":0.1,\"line_color\":\"#d53e4f\",\"x\":{\"field\":\"x\"},\"y\":{\"field\":\"y\"}},\"id\":\"55697\",\"type\":\"Line\"},{\"attributes\":{\"data_source\":{\"id\":\"55666\"},\"glyph\":{\"id\":\"55667\"},\"hover_glyph\":null,\"muted_glyph\":null,\"nonselection_glyph\":{\"id\":\"55668\"},\"selection_glyph\":null,\"view\":{\"id\":\"55670\"}},\"id\":\"55669\",\"type\":\"GlyphRenderer\"},{\"attributes\":{},\"id\":\"55724\",\"type\":\"UnionRenderers\"},{\"attributes\":{\"line_color\":\"#f46d43\",\"x\":{\"field\":\"x\"},\"y\":{\"field\":\"y\"}},\"id\":\"55667\",\"type\":\"Line\"},{\"attributes\":{},\"id\":\"55568\",\"type\":\"UnionRenderers\"},{\"attributes\":{\"source\":{\"id\":\"55505\"}},\"id\":\"55509\",\"type\":\"CDSView\"},{\"attributes\":{\"data\":{\"x\":[\"17/1\",\"17/2\",\"17/3\",\"17/4\",\"17/5\",\"17/6\",\"17/7\",\"17/8\",\"17/9\",\"17/10\",\"17/11\",\"17/12\",\"18/1\",\"18/2\",\"18/3\",\"18/4\",\"18/5\",\"18/6\",\"18/7\",\"18/8\",\"18/9\",\"18/10\",\"18/11\",\"18/12\",\"19/1\",\"19/2\",\"19/3\",\"19/4\",\"19/5\",\"19/6\",\"19/7\",\"19/8\",\"19/9\",\"19/10\",\"19/11\",\"19/12\",\"20/1\",\"20/2\",\"20/3\"],\"y\":[80,228,492,58,149,386,279,200,465,1190,1412,78,223,302,68,2,43,345,246,165,493,689,873,435,789,243,224,352,774,406,197,338,337,238,189,212,118,104,28]},\"selected\":{\"id\":\"55588\"},\"selection_policy\":{\"id\":\"55589\"}},\"id\":\"55551\",\"type\":\"ColumnDataSource\"},{\"attributes\":{\"axis\":{\"id\":\"55487\"},\"dimension\":1,\"ticker\":null},\"id\":\"55490\",\"type\":\"Grid\"},{\"attributes\":{\"line_color\":\"#5e4fa2\",\"x\":{\"field\":\"x\"},\"y\":{\"field\":\"y\"}},\"id\":\"55506\",\"type\":\"Line\"},{\"attributes\":{\"line_color\":\"#abdda4\",\"x\":{\"field\":\"x\"},\"y\":{\"field\":\"y\"}},\"id\":\"55552\",\"type\":\"Line\"},{\"attributes\":{\"data\":{\"x\":[\"17/1\",\"17/2\",\"17/3\",\"17/4\",\"17/5\",\"17/6\",\"17/7\",\"17/8\",\"17/9\",\"17/10\",\"17/11\",\"17/12\",\"18/1\",\"18/2\",\"18/3\",\"18/4\",\"18/5\",\"18/6\",\"18/7\",\"18/8\",\"18/9\",\"18/10\",\"18/11\",\"18/12\",\"19/1\",\"19/2\",\"19/3\",\"19/4\",\"19/5\",\"19/6\",\"19/7\",\"19/8\",\"19/9\",\"19/10\",\"19/11\",\"19/12\",\"20/1\",\"20/2\",\"20/3\"],\"y\":[54,115,374,428,504,260,259,246,362,673,611,73,58,114,171,38,25,405,166,163,242,988,613,259,969,75,189,138,111,82,5,13,14,107,129,76,163,66,24]},\"selected\":{\"id\":\"55723\"},\"selection_policy\":{\"id\":\"55724\"}},\"id\":\"55666\",\"type\":\"ColumnDataSource\"},{\"attributes\":{\"source\":{\"id\":\"55695\"}},\"id\":\"55699\",\"type\":\"CDSView\"},{\"attributes\":{},\"id\":\"55612\",\"type\":\"UnionRenderers\"},{\"attributes\":{},\"id\":\"55723\",\"type\":\"Selection\"},{\"attributes\":{\"label\":{\"value\":\"6689489\"},\"renderers\":[{\"id\":\"55508\"}]},\"id\":\"55518\",\"type\":\"LegendItem\"},{\"attributes\":{\"data\":{\"x\":[\"17/1\",\"17/2\",\"17/3\",\"17/4\",\"17/5\",\"17/6\",\"17/7\",\"17/8\",\"17/9\",\"17/10\",\"17/11\",\"17/12\",\"18/1\",\"18/2\",\"18/3\",\"18/4\",\"18/5\",\"18/6\",\"18/7\",\"18/8\",\"18/9\",\"18/10\",\"18/11\",\"18/12\",\"19/1\",\"19/2\",\"19/3\",\"19/4\",\"19/5\",\"19/6\",\"19/7\",\"19/8\",\"19/9\",\"19/10\",\"19/11\",\"19/12\",\"20/1\",\"20/2\",\"20/3\"],\"y\":[39,336,136,192,386,764,449,374,157,386,434,91,49,223,218,162,86,314,285,139,183,563,343,401,455,136,211,183,155,125,350,63,251,138,83,124,123,53,94]},\"selected\":{\"id\":\"56698\"},\"selection_policy\":{\"id\":\"56699\"}},\"id\":\"55695\",\"type\":\"ColumnDataSource\"},{\"attributes\":{\"factors\":[\"17/1\",\"17/2\",\"17/3\",\"17/4\",\"17/5\",\"17/6\",\"17/7\",\"17/8\",\"17/9\",\"17/10\",\"17/11\",\"17/12\",\"18/1\",\"18/2\",\"18/3\",\"18/4\",\"18/5\",\"18/6\",\"18/7\",\"18/8\",\"18/9\",\"18/10\",\"18/11\",\"18/12\",\"19/1\",\"19/2\",\"19/3\",\"19/4\",\"19/5\",\"19/6\",\"19/7\",\"19/8\",\"19/9\",\"19/10\",\"19/11\",\"19/12\",\"20/1\",\"20/2\",\"20/3\"]},\"id\":\"55476\",\"type\":\"FactorRange\"},{\"attributes\":{\"line_color\":\"#d53e4f\",\"x\":{\"field\":\"x\"},\"y\":{\"field\":\"y\"}},\"id\":\"55696\",\"type\":\"Line\"},{\"attributes\":{},\"id\":\"55494\",\"type\":\"SaveTool\"},{\"attributes\":{\"formatter\":{\"id\":\"55512\"},\"ticker\":{\"id\":\"55488\"}},\"id\":\"55487\",\"type\":\"LinearAxis\"},{\"attributes\":{},\"id\":\"55495\",\"type\":\"ResetTool\"},{\"attributes\":{},\"id\":\"55496\",\"type\":\"HelpTool\"},{\"attributes\":{},\"id\":\"55485\",\"type\":\"CategoricalTicker\"},{\"attributes\":{\"active_drag\":\"auto\",\"active_inspect\":\"auto\",\"active_multi\":null,\"active_scroll\":\"auto\",\"active_tap\":\"auto\",\"tools\":[{\"id\":\"55491\"},{\"id\":\"55492\"},{\"id\":\"55493\"},{\"id\":\"55494\"},{\"id\":\"55495\"},{\"id\":\"55496\"}]},\"id\":\"55498\",\"type\":\"Toolbar\"},{\"attributes\":{},\"id\":\"55512\",\"type\":\"BasicTickFormatter\"},{\"attributes\":{},\"id\":\"55488\",\"type\":\"BasicTicker\"},{\"attributes\":{\"label\":{\"value\":\"2819316\"},\"renderers\":[{\"id\":\"55594\"}]},\"id\":\"55613\",\"type\":\"LegendItem\"},{\"attributes\":{},\"id\":\"55514\",\"type\":\"CategoricalTickFormatter\"},{\"attributes\":{\"line_color\":\"#66c2a5\",\"x\":{\"field\":\"x\"},\"y\":{\"field\":\"y\"}},\"id\":\"55535\",\"type\":\"Line\"},{\"attributes\":{\"label\":{\"value\":\"1634809\"},\"renderers\":[{\"id\":\"55698\"}]},\"id\":\"55725\",\"type\":\"LegendItem\"},{\"attributes\":{\"line_alpha\":0.1,\"line_color\":\"#66c2a5\",\"x\":{\"field\":\"x\"},\"y\":{\"field\":\"y\"}},\"id\":\"55536\",\"type\":\"Line\"},{\"attributes\":{\"data_source\":{\"id\":\"55505\"},\"glyph\":{\"id\":\"55506\"},\"hover_glyph\":null,\"muted_glyph\":null,\"nonselection_glyph\":{\"id\":\"55507\"},\"selection_glyph\":null,\"view\":{\"id\":\"55509\"}},\"id\":\"55508\",\"type\":\"GlyphRenderer\"},{\"attributes\":{\"data\":{\"x\":[\"17/1\",\"17/2\",\"17/3\",\"17/4\",\"17/5\",\"17/6\",\"17/7\",\"17/8\",\"17/9\",\"17/10\",\"17/11\",\"17/12\",\"18/1\",\"18/2\",\"18/3\",\"18/4\",\"18/5\",\"18/6\",\"18/7\",\"18/8\",\"18/9\",\"18/10\",\"18/11\",\"18/12\",\"19/1\",\"19/2\",\"19/3\",\"19/4\",\"19/5\",\"19/6\",\"19/7\",\"19/8\",\"19/9\",\"19/10\",\"19/11\",\"19/12\",\"20/1\",\"20/2\",\"20/3\"],\"y\":[52,107,291,387,1277,2005,1733,1293,1393,3408,2944,794,56,73,50,6,0,0,0,0,826,1556,673,0,0,0,0,0,0,0,0,3,0,0,0,0,0,0,0]},\"selected\":{\"id\":\"55567\"},\"selection_policy\":{\"id\":\"55568\"}},\"id\":\"55534\",\"type\":\"ColumnDataSource\"},{\"attributes\":{},\"id\":\"55478\",\"type\":\"DataRange1d\"},{\"attributes\":{\"text\":\"\"},\"id\":\"55511\",\"type\":\"Title\"},{\"attributes\":{},\"id\":\"55491\",\"type\":\"PanTool\"},{\"attributes\":{\"line_alpha\":0.1,\"line_color\":\"#5e4fa2\",\"x\":{\"field\":\"x\"},\"y\":{\"field\":\"y\"}},\"id\":\"55507\",\"type\":\"Line\"}],\"root_ids\":[\"55475\"]},\"title\":\"Bokeh Application\",\"version\":\"2.0.2\"}};\n",
       "  var render_items = [{\"docid\":\"b981ae20-9951-4c4d-b95a-709272f0b499\",\"notebook_comms_target\":\"56700\",\"root_ids\":[\"55475\"],\"roots\":{\"55475\":\"4bc05016-8c99-43b5-b07f-52274da4ce68\"}}];\n",
       "  root.Bokeh.embed.embed_items_notebook(docs_json, render_items);\n",
       "\n",
       "  }\n",
       "  if (root.Bokeh !== undefined) {\n",
       "    embed_document(root);\n",
       "  } else {\n",
       "    var attempts = 0;\n",
       "    var timer = setInterval(function(root) {\n",
       "      if (root.Bokeh !== undefined) {\n",
       "        clearInterval(timer);\n",
       "        embed_document(root);\n",
       "      } else {\n",
       "        attempts++;\n",
       "        if (attempts > 100) {\n",
       "          clearInterval(timer);\n",
       "          console.log(\"Bokeh: ERROR: Unable to run BokehJS code because BokehJS library is missing\");\n",
       "        }\n",
       "      }\n",
       "    }, 10, root)\n",
       "  }\n",
       "})(window);"
      ],
      "application/vnd.bokehjs_exec.v0+json": ""
     },
     "metadata": {
      "application/vnd.bokehjs_exec.v0+json": {
       "id": "55475"
      }
     },
     "output_type": "display_data"
    },
    {
     "data": {
      "text/html": [
       "<p><code>&lt;Bokeh Notebook handle for <strong>In[233]</strong>&gt;</code></p>"
      ],
      "text/plain": [
       "<bokeh.io.notebook.CommsHandle at 0x233b34e9e80>"
      ]
     },
     "execution_count": 233,
     "metadata": {},
     "output_type": "execute_result"
    }
   ],
   "source": [
    "from bokeh.palettes import Spectral11\n",
    "\n",
    "p = figure(plot_width=1200, plot_height=400, x_range = [str(i[0])[2:]+'/'+str(i[1]) for i in year_month_dict.keys()])\n",
    "\n",
    "itration = 0\n",
    "for name, color in zip([6689489, 5381109, 1756454, 4435859, 8350659, 2819316, 3463352, 5987313, 7463224, 1634809] ,Spectral11):\n",
    "    p.line([str(i[0])[2:]+'/'+str(i[1]) for i in year_month_dict.keys()], agg_data[itration], color=color, legend=str(name))\n",
    "    itration += 1\n",
    "    \n",
    "p.legend.location = \"top_right\"\n",
    "show(p, notebook_handle=True)"
   ]
  }
 ],
 "metadata": {
  "kernelspec": {
   "display_name": "Python 3",
   "language": "python",
   "name": "python3"
  },
  "language_info": {
   "codemirror_mode": {
    "name": "ipython",
    "version": 3
   },
   "file_extension": ".py",
   "mimetype": "text/x-python",
   "name": "python",
   "nbconvert_exporter": "python",
   "pygments_lexer": "ipython3",
   "version": "3.7.3"
  }
 },
 "nbformat": 4,
 "nbformat_minor": 4
}
